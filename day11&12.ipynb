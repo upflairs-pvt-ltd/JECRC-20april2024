{
 "cells": [
  {
   "cell_type": "code",
   "execution_count": 1,
   "id": "a274d420-5fd7-4555-9098-94869f67840d",
   "metadata": {},
   "outputs": [],
   "source": [
    "import numpy as np "
   ]
  },
  {
   "cell_type": "code",
   "execution_count": 11,
   "id": "f6feb8c7-c3f0-4a30-a9ce-f25a8496e5bf",
   "metadata": {},
   "outputs": [
    {
     "data": {
      "text/plain": [
       "array([25.  , 41.  , 63.  , 89.  , 78.  , 58.2 , 85.52])"
      ]
     },
     "execution_count": 11,
     "metadata": {},
     "output_type": "execute_result"
    }
   ],
   "source": [
    "lst = [25,41,63,89,78,58.2,85.52]\n",
    "arr = np.array(lst)\n",
    "arr"
   ]
  },
  {
   "cell_type": "code",
   "execution_count": 3,
   "id": "73b79e9b-459b-420d-af61-35c257dc9855",
   "metadata": {},
   "outputs": [
    {
     "name": "stdout",
     "output_type": "stream",
     "text": [
      "<class 'numpy.ndarray'>\n"
     ]
    }
   ],
   "source": [
    "print(type(arr))"
   ]
  },
  {
   "cell_type": "code",
   "execution_count": 7,
   "id": "ebbd5de7-1c0c-45a3-95cc-8ccb3d10c97f",
   "metadata": {},
   "outputs": [
    {
     "data": {
      "text/plain": [
       "dtype('float64')"
      ]
     },
     "execution_count": 7,
     "metadata": {},
     "output_type": "execute_result"
    }
   ],
   "source": [
    "arr.dtype"
   ]
  },
  {
   "cell_type": "code",
   "execution_count": 13,
   "id": "77a63ae7-ffdb-477e-91c2-525a7e6eade2",
   "metadata": {},
   "outputs": [
    {
     "data": {
      "text/plain": [
       "array([25.  , 41.  , 63.  , 89.  , 78.  , 58.2 , 85.52])"
      ]
     },
     "execution_count": 13,
     "metadata": {},
     "output_type": "execute_result"
    }
   ],
   "source": [
    "arr "
   ]
  },
  {
   "cell_type": "code",
   "execution_count": 20,
   "id": "1378aa19-10ea-4d5f-b412-0b0bc70babe4",
   "metadata": {},
   "outputs": [
    {
     "data": {
      "text/plain": [
       "array([85.52, 58.2 , 78.  , 89.  , 63.  , 41.  , 25.  ])"
      ]
     },
     "execution_count": 20,
     "metadata": {},
     "output_type": "execute_result"
    }
   ],
   "source": [
    "arr[::-1]"
   ]
  },
  {
   "cell_type": "code",
   "execution_count": 21,
   "id": "fb842c11-2dc9-4171-b7bb-61075057a540",
   "metadata": {},
   "outputs": [
    {
     "data": {
      "text/plain": [
       "array([25.  , 41.  , 63.  , 89.  , 78.  , 58.2 , 85.52])"
      ]
     },
     "execution_count": 21,
     "metadata": {},
     "output_type": "execute_result"
    }
   ],
   "source": [
    "arr "
   ]
  },
  {
   "cell_type": "code",
   "execution_count": 24,
   "id": "94cf1f28-2c3e-43f1-9d60-661dc8f98473",
   "metadata": {},
   "outputs": [
    {
     "data": {
      "text/plain": [
       "array([85.52, 58.2 ])"
      ]
     },
     "execution_count": 24,
     "metadata": {},
     "output_type": "execute_result"
    }
   ],
   "source": [
    "arr[-1:-3:-1]"
   ]
  },
  {
   "cell_type": "code",
   "execution_count": 25,
   "id": "570dd237-ee86-4e87-bce8-5b4c02e6d06d",
   "metadata": {},
   "outputs": [
    {
     "data": {
      "text/plain": [
       "1"
      ]
     },
     "execution_count": 25,
     "metadata": {},
     "output_type": "execute_result"
    }
   ],
   "source": [
    "arr.ndim"
   ]
  },
  {
   "cell_type": "code",
   "execution_count": 26,
   "id": "49c1a0aa-ba5c-4b5a-b580-6ade19ad6fad",
   "metadata": {},
   "outputs": [
    {
     "data": {
      "text/plain": [
       "array([ 0,  1,  2,  3,  4,  5,  6,  7,  8,  9, 10, 11, 12, 13, 14, 15, 16,\n",
       "       17, 18, 19])"
      ]
     },
     "execution_count": 26,
     "metadata": {},
     "output_type": "execute_result"
    }
   ],
   "source": [
    "np.arange(20)"
   ]
  },
  {
   "cell_type": "code",
   "execution_count": 27,
   "id": "81ffb154-77d7-43a4-86d7-686b461cfd6f",
   "metadata": {},
   "outputs": [
    {
     "data": {
      "text/plain": [
       "array([0., 0., 0., 0., 0., 0., 0., 0., 0., 0.])"
      ]
     },
     "execution_count": 27,
     "metadata": {},
     "output_type": "execute_result"
    }
   ],
   "source": [
    "np.zeros(10)"
   ]
  },
  {
   "cell_type": "code",
   "execution_count": 28,
   "id": "c1311b4d-429d-4d07-a699-4dddb6284e9a",
   "metadata": {},
   "outputs": [
    {
     "data": {
      "text/plain": [
       "array([1., 1., 1., 1., 1., 1., 1., 1., 1., 1.])"
      ]
     },
     "execution_count": 28,
     "metadata": {},
     "output_type": "execute_result"
    }
   ],
   "source": [
    "np.ones(10)"
   ]
  },
  {
   "cell_type": "code",
   "execution_count": 29,
   "id": "6fe8994d-7682-46c1-af86-be337188083a",
   "metadata": {},
   "outputs": [
    {
     "data": {
      "text/plain": [
       "array([1.        , 1.44444444, 1.88888889, 2.33333333, 2.77777778,\n",
       "       3.22222222, 3.66666667, 4.11111111, 4.55555556, 5.        ])"
      ]
     },
     "execution_count": 29,
     "metadata": {},
     "output_type": "execute_result"
    }
   ],
   "source": [
    "## 1 - 10  10\n",
    "np.linspace(1,5,10)"
   ]
  },
  {
   "cell_type": "code",
   "execution_count": 31,
   "id": "6a59c04e-5562-42c6-b82f-138e9d7689dc",
   "metadata": {},
   "outputs": [],
   "source": [
    "arr2 = np.array([[52,63,52,85],\n",
    "[52,63,52,85],\n",
    "[52,63,52,85]])"
   ]
  },
  {
   "cell_type": "code",
   "execution_count": 32,
   "id": "b0f65fa0-225e-4eff-b70a-9af50e5f8b57",
   "metadata": {},
   "outputs": [
    {
     "data": {
      "text/plain": [
       "array([[52, 63, 52, 85],\n",
       "       [52, 63, 52, 85],\n",
       "       [52, 63, 52, 85]])"
      ]
     },
     "execution_count": 32,
     "metadata": {},
     "output_type": "execute_result"
    }
   ],
   "source": [
    "arr2"
   ]
  },
  {
   "cell_type": "code",
   "execution_count": 33,
   "id": "c0879765-9fde-4739-86ad-fdfb96185a99",
   "metadata": {},
   "outputs": [
    {
     "data": {
      "text/plain": [
       "2"
      ]
     },
     "execution_count": 33,
     "metadata": {},
     "output_type": "execute_result"
    }
   ],
   "source": [
    "arr2.ndim "
   ]
  },
  {
   "cell_type": "code",
   "execution_count": 34,
   "id": "af788e18-e792-49f6-ae58-a32d37f7aea1",
   "metadata": {},
   "outputs": [
    {
     "data": {
      "text/plain": [
       "(3, 4)"
      ]
     },
     "execution_count": 34,
     "metadata": {},
     "output_type": "execute_result"
    }
   ],
   "source": [
    "arr2.shape"
   ]
  },
  {
   "cell_type": "code",
   "execution_count": 35,
   "id": "00be49ad-21cd-4514-9e40-ac8f4979f8a1",
   "metadata": {},
   "outputs": [
    {
     "data": {
      "text/plain": [
       "array([[52, 63, 52, 85],\n",
       "       [52, 63, 52, 85],\n",
       "       [52, 63, 52, 85]])"
      ]
     },
     "execution_count": 35,
     "metadata": {},
     "output_type": "execute_result"
    }
   ],
   "source": [
    "arr2 "
   ]
  },
  {
   "cell_type": "code",
   "execution_count": 45,
   "id": "b1b745c8-3258-4d2e-8d45-0b85870a041b",
   "metadata": {},
   "outputs": [
    {
     "data": {
      "text/plain": [
       "85"
      ]
     },
     "execution_count": 45,
     "metadata": {},
     "output_type": "execute_result"
    }
   ],
   "source": [
    "# [row,column]  # starting_point:ending_point:step_point\n",
    "arr2[-1,-1]"
   ]
  },
  {
   "cell_type": "code",
   "execution_count": 49,
   "id": "870019fe-d786-4f97-aa7c-f6bed5179007",
   "metadata": {},
   "outputs": [
    {
     "data": {
      "text/plain": [
       "85"
      ]
     },
     "execution_count": 49,
     "metadata": {},
     "output_type": "execute_result"
    }
   ],
   "source": [
    "arr2[2][3]"
   ]
  },
  {
   "cell_type": "code",
   "execution_count": 51,
   "id": "9649d232-7ed0-4943-972c-40bea8da3dd6",
   "metadata": {},
   "outputs": [
    {
     "data": {
      "text/plain": [
       "array([[ 0,  1,  2,  3,  4],\n",
       "       [ 5,  6,  7,  8,  9],\n",
       "       [10, 11, 12, 13, 14],\n",
       "       [15, 16, 17, 18, 19],\n",
       "       [20, 21, 22, 23, 24],\n",
       "       [25, 26, 27, 28, 29],\n",
       "       [30, 31, 32, 33, 34],\n",
       "       [35, 36, 37, 38, 39],\n",
       "       [40, 41, 42, 43, 44],\n",
       "       [45, 46, 47, 48, 49],\n",
       "       [50, 51, 52, 53, 54],\n",
       "       [55, 56, 57, 58, 59]])"
      ]
     },
     "execution_count": 51,
     "metadata": {},
     "output_type": "execute_result"
    }
   ],
   "source": [
    "arr3 = np.arange(60).reshape(12,5)\n",
    "arr3 "
   ]
  },
  {
   "cell_type": "code",
   "execution_count": 53,
   "id": "ecbe12c0-145d-4ae9-ae91-a03fc04067f2",
   "metadata": {},
   "outputs": [
    {
     "data": {
      "text/plain": [
       "array([ 0,  1,  2,  3,  4,  5,  6,  7,  8,  9, 10, 11, 12, 13, 14, 15, 16,\n",
       "       17, 18, 19, 20, 21, 22, 23, 24, 25, 26, 27, 28, 29, 30, 31, 32, 33,\n",
       "       34, 35, 36, 37, 38, 39, 40, 41, 42, 43, 44, 45, 46, 47, 48, 49, 50,\n",
       "       51, 52, 53, 54, 55, 56, 57, 58, 59])"
      ]
     },
     "execution_count": 53,
     "metadata": {},
     "output_type": "execute_result"
    }
   ],
   "source": [
    "arr3.flatten()   # ravel()  #reshape"
   ]
  },
  {
   "cell_type": "code",
   "execution_count": 56,
   "id": "1a24869c-9e26-490b-ba25-752b65ab8540",
   "metadata": {},
   "outputs": [
    {
     "data": {
      "text/plain": [
       "array([[0.87972033, 0.37994306],\n",
       "       [0.38684842, 0.91465695],\n",
       "       [0.87503425, 0.85898824],\n",
       "       [0.0851158 , 0.63169581],\n",
       "       [0.24146611, 0.96578098],\n",
       "       [0.75941045, 0.11046146],\n",
       "       [0.31901023, 0.57329591],\n",
       "       [0.44175918, 0.74720382],\n",
       "       [0.91720289, 0.1567114 ],\n",
       "       [0.30399908, 0.98945587]])"
      ]
     },
     "execution_count": 56,
     "metadata": {},
     "output_type": "execute_result"
    }
   ],
   "source": [
    "np.random.random((10,2))"
   ]
  },
  {
   "cell_type": "code",
   "execution_count": 58,
   "id": "f6306155-846f-4a91-a462-1a23f36474cd",
   "metadata": {},
   "outputs": [],
   "source": [
    "arr = np.random.randint(1,5,10)"
   ]
  },
  {
   "cell_type": "code",
   "execution_count": 61,
   "id": "970fddaa-a27c-4243-919c-04ac2e4b689c",
   "metadata": {},
   "outputs": [],
   "source": [
    "arr[-1] = 100"
   ]
  },
  {
   "cell_type": "code",
   "execution_count": 63,
   "id": "f209c40f-83e6-4710-8fe2-fac3f71a37bd",
   "metadata": {},
   "outputs": [
    {
     "data": {
      "text/plain": [
       "array([137, 147,  71, 199, 100,  81, 129, 108,  38,  78,  79, 150,  38,\n",
       "       115,  74,  96, 197, 155,  80,  97, 108, 187, 178, 186, 183,   9,\n",
       "       116, 179, 196, 136,  23,  62, 126,  43,  28, 197,  12,  18,  95,\n",
       "       104,  61,   9, 125, 126, 117, 136,  83, 151,  47,  57, 189,  95,\n",
       "        64,  75, 187, 161, 151, 130,  54, 117,  17, 111,  22, 182, 113,\n",
       "       137,  36,  15,   8,  70, 125,  88, 157, 114,  76,  87, 145, 152,\n",
       "       143, 141,  30, 174,  43,  29, 121,  76,  31, 199,  54, 128,   3,\n",
       "        13,  23,  41, 160,  97, 150, 122, 108,   7,  28,  60,  80, 162,\n",
       "       118,  31,   5, 102,  31, 182, 137, 159,  99, 108, 120, 190, 148,\n",
       "        91, 180, 122,  66,  27,  52, 166, 120, 124,  89, 151,   5,  45,\n",
       "        71,   3, 146,  59, 113,  85, 141,  37, 110, 121, 180, 159, 179,\n",
       "         6, 103,  89,  45,  23, 162,  14, 171, 134,  55, 195, 142,   4,\n",
       "       117,   3, 108,  62,   5,  78, 144, 197,  85, 109, 133, 176, 146,\n",
       "        20, 151, 126, 114,  31, 162,  93,  42,  75,  33,   3, 155,  79,\n",
       "        40, 126,  45,  40, 190, 166, 124, 144,  23, 107,  70,  12,  37,\n",
       "        60, 162,  14,  11,  54])"
      ]
     },
     "execution_count": 63,
     "metadata": {},
     "output_type": "execute_result"
    }
   ],
   "source": [
    "arr = np.random.randint(1,200,200)\n",
    "arr "
   ]
  },
  {
   "cell_type": "code",
   "execution_count": 67,
   "id": "dffa6c70-f101-4825-ac25-054f124f402d",
   "metadata": {},
   "outputs": [
    {
     "data": {
      "text/plain": [
       "(98,)"
      ]
     },
     "execution_count": 67,
     "metadata": {},
     "output_type": "execute_result"
    }
   ],
   "source": [
    "arr[arr<100].shape"
   ]
  },
  {
   "cell_type": "code",
   "execution_count": 2,
   "id": "a4d4b5da-03f7-411c-8975-ffcf94239b8f",
   "metadata": {},
   "outputs": [],
   "source": [
    "# [[[1,2,3],\n",
    "# [4,5,6]],\n",
    "# [[1,2,3],\n",
    "# [4,5,6]],\n",
    "# [[1,2,3],\n",
    "# [4,5,6]]]\n",
    "\n",
    "arr = np.array([[[1,2,3],\n",
    "[4,5,6]],\n",
    "[[1,2,3],\n",
    "[4,5,6]],\n",
    "[[1,2,3],\n",
    "[4,5,6]]])\n"
   ]
  },
  {
   "cell_type": "code",
   "execution_count": 3,
   "id": "a1b865ba-ec9a-4a73-9e77-7b7125b3685a",
   "metadata": {},
   "outputs": [
    {
     "data": {
      "text/plain": [
       "array([[[1, 2, 3],\n",
       "        [4, 5, 6]],\n",
       "\n",
       "       [[1, 2, 3],\n",
       "        [4, 5, 6]],\n",
       "\n",
       "       [[1, 2, 3],\n",
       "        [4, 5, 6]]])"
      ]
     },
     "execution_count": 3,
     "metadata": {},
     "output_type": "execute_result"
    }
   ],
   "source": [
    "arr "
   ]
  },
  {
   "cell_type": "code",
   "execution_count": 4,
   "id": "683448e1-e062-4471-9267-9c5890537090",
   "metadata": {},
   "outputs": [
    {
     "data": {
      "text/plain": [
       "3"
      ]
     },
     "execution_count": 4,
     "metadata": {},
     "output_type": "execute_result"
    }
   ],
   "source": [
    "arr.ndim"
   ]
  },
  {
   "cell_type": "code",
   "execution_count": 5,
   "id": "072449a8-50ab-4de5-8707-76b73118a5b0",
   "metadata": {},
   "outputs": [
    {
     "data": {
      "text/plain": [
       "(3, 2, 3)"
      ]
     },
     "execution_count": 5,
     "metadata": {},
     "output_type": "execute_result"
    }
   ],
   "source": [
    "arr.shape\n",
    "# (3, 2, 3) --> (table,row , column)"
   ]
  },
  {
   "cell_type": "code",
   "execution_count": 7,
   "id": "2be0c94b-81da-4bc7-8d3f-d57c826129ba",
   "metadata": {},
   "outputs": [
    {
     "data": {
      "text/plain": [
       "array([[1, 2, 3],\n",
       "       [4, 5, 6]])"
      ]
     },
     "execution_count": 7,
     "metadata": {},
     "output_type": "execute_result"
    }
   ],
   "source": [
    "arr[1]  #particular table"
   ]
  },
  {
   "cell_type": "code",
   "execution_count": 13,
   "id": "f039ad88-dc57-4e1a-975a-72f7e3dba3f6",
   "metadata": {},
   "outputs": [],
   "source": [
    "a = arr[1, 0 , :]"
   ]
  },
  {
   "cell_type": "code",
   "execution_count": 18,
   "id": "3da090d7-9540-418e-b198-5b96afad4929",
   "metadata": {},
   "outputs": [
    {
     "data": {
      "text/plain": [
       "array([5, 6])"
      ]
     },
     "execution_count": 18,
     "metadata": {},
     "output_type": "execute_result"
    }
   ],
   "source": [
    "arr[2,1,1:]"
   ]
  },
  {
   "cell_type": "code",
   "execution_count": 21,
   "id": "24195bb9-8aee-476b-9e96-0986a39bf823",
   "metadata": {},
   "outputs": [
    {
     "data": {
      "text/plain": [
       "array([5, 6])"
      ]
     },
     "execution_count": 21,
     "metadata": {},
     "output_type": "execute_result"
    }
   ],
   "source": [
    "arr[2][1][1:]"
   ]
  },
  {
   "cell_type": "code",
   "execution_count": 22,
   "id": "ce9d0e86-cfea-44c0-8ebd-d875fd56af23",
   "metadata": {},
   "outputs": [
    {
     "data": {
      "text/plain": [
       "array([[1, 2, 3],\n",
       "       [1, 2, 3],\n",
       "       [1, 2, 3]])"
      ]
     },
     "execution_count": 22,
     "metadata": {},
     "output_type": "execute_result"
    }
   ],
   "source": [
    "arr[:,0,:]"
   ]
  },
  {
   "cell_type": "code",
   "execution_count": 30,
   "id": "2f6c2c05-e375-4614-9efc-956c505ddddb",
   "metadata": {},
   "outputs": [
    {
     "data": {
      "text/plain": [
       "array([[0.10595823, 0.35040692],\n",
       "       [0.6329527 , 0.3118427 ],\n",
       "       [0.2537702 , 0.44558886]])"
      ]
     },
     "execution_count": 30,
     "metadata": {},
     "output_type": "execute_result"
    }
   ],
   "source": [
    "arr1 = np.random.random((3,2))\n",
    "arr1 "
   ]
  },
  {
   "cell_type": "code",
   "execution_count": 29,
   "id": "8f0227a7-00e4-4185-886f-2828ad1cbbe6",
   "metadata": {},
   "outputs": [
    {
     "data": {
      "text/plain": [
       "array([[0.88396137, 0.11926419, 0.61223055],\n",
       "       [0.5522636 , 0.14865882, 0.78710819]])"
      ]
     },
     "execution_count": 29,
     "metadata": {},
     "output_type": "execute_result"
    }
   ],
   "source": [
    "arr2.T"
   ]
  },
  {
   "cell_type": "code",
   "execution_count": 31,
   "id": "57b445ce-025d-4b24-bd3a-7ae3f8f5fa9c",
   "metadata": {},
   "outputs": [
    {
     "data": {
      "text/plain": [
       "array([[0.81621181, 0.75935602],\n",
       "       [0.97909838, 0.7772497 ],\n",
       "       [0.85900918, 0.22780098]])"
      ]
     },
     "execution_count": 31,
     "metadata": {},
     "output_type": "execute_result"
    }
   ],
   "source": [
    "arr2 = np.random.random((3,2))\n",
    "arr2 "
   ]
  },
  {
   "cell_type": "code",
   "execution_count": 33,
   "id": "4832ce8f-bb6f-4882-bfdb-dbdd0a38eb25",
   "metadata": {},
   "outputs": [
    {
     "data": {
      "text/plain": [
       "(3, 2)"
      ]
     },
     "execution_count": 33,
     "metadata": {},
     "output_type": "execute_result"
    }
   ],
   "source": [
    "arr2.shape "
   ]
  },
  {
   "cell_type": "code",
   "execution_count": 39,
   "id": "a66e1dec-5ac6-44b1-9c50-1d5d96549f35",
   "metadata": {},
   "outputs": [
    {
     "data": {
      "text/plain": [
       "array([[0.10595823, 0.35040692, 0.81621181, 0.75935602],\n",
       "       [0.6329527 , 0.3118427 , 0.97909838, 0.7772497 ],\n",
       "       [0.2537702 , 0.44558886, 0.85900918, 0.22780098]])"
      ]
     },
     "execution_count": 39,
     "metadata": {},
     "output_type": "execute_result"
    }
   ],
   "source": [
    "np.concatenate((arr1,arr2),axis=1)"
   ]
  },
  {
   "cell_type": "code",
   "execution_count": 40,
   "id": "3c7ee69d-0791-4fc9-954f-8398b88f4fa8",
   "metadata": {},
   "outputs": [
    {
     "data": {
      "text/plain": [
       "array([0, 1, 2, 3, 4, 5, 6, 7, 8, 9])"
      ]
     },
     "execution_count": 40,
     "metadata": {},
     "output_type": "execute_result"
    }
   ],
   "source": [
    "arr = np.arange(10)\n",
    "arr "
   ]
  },
  {
   "cell_type": "code",
   "execution_count": 42,
   "id": "b91da2fc-0e0b-4e3c-9ee4-69ec26277a87",
   "metadata": {},
   "outputs": [
    {
     "data": {
      "text/plain": [
       "array([ 5,  6,  7,  8,  9, 10, 11, 12, 13, 14])"
      ]
     },
     "execution_count": 42,
     "metadata": {},
     "output_type": "execute_result"
    }
   ],
   "source": [
    "arr+5 "
   ]
  },
  {
   "cell_type": "code",
   "execution_count": 47,
   "id": "478eab42-491a-4a8d-8169-cccb33543786",
   "metadata": {},
   "outputs": [
    {
     "data": {
      "text/plain": [
       "4.5"
      ]
     },
     "execution_count": 47,
     "metadata": {},
     "output_type": "execute_result"
    }
   ],
   "source": [
    "arr.mean() # min , max , sum"
   ]
  },
  {
   "cell_type": "code",
   "execution_count": 48,
   "id": "b9a8bf21-b4e2-4de9-ac3e-c4da98f58197",
   "metadata": {},
   "outputs": [
    {
     "data": {
      "text/plain": [
       "array([[1, 2, 3],\n",
       "       [4, 5, 6]])"
      ]
     },
     "execution_count": 48,
     "metadata": {},
     "output_type": "execute_result"
    }
   ],
   "source": [
    "arr1 = np.array([[1,2,3],[4,5,6]])\n",
    "arr1 "
   ]
  },
  {
   "cell_type": "code",
   "execution_count": 52,
   "id": "d9712eb7-1da9-4d5d-b82d-107a68cce327",
   "metadata": {},
   "outputs": [
    {
     "data": {
      "text/plain": [
       "array([2, 4, 5])"
      ]
     },
     "execution_count": 52,
     "metadata": {},
     "output_type": "execute_result"
    }
   ],
   "source": [
    "arr =  np.array([2,4,5])\n",
    "arr "
   ]
  },
  {
   "cell_type": "code",
   "execution_count": 53,
   "id": "1db929a9-d068-42f2-96f4-0ba216f68ca1",
   "metadata": {},
   "outputs": [
    {
     "data": {
      "text/plain": [
       "array([[ 3,  6,  8],\n",
       "       [ 6,  9, 11]])"
      ]
     },
     "execution_count": 53,
     "metadata": {},
     "output_type": "execute_result"
    }
   ],
   "source": [
    "arr1 + arr "
   ]
  },
  {
   "cell_type": "code",
   "execution_count": 54,
   "id": "690dfd29-9c7f-46b3-a28f-9707b4c3f505",
   "metadata": {},
   "outputs": [
    {
     "data": {
      "text/plain": [
       "array([[1, 1, 1],\n",
       "       [2, 2, 2]])"
      ]
     },
     "execution_count": 54,
     "metadata": {},
     "output_type": "execute_result"
    }
   ],
   "source": [
    "arr2 = np.array([[1,1,1],[2,2,2]])\n",
    "arr2 "
   ]
  },
  {
   "cell_type": "code",
   "execution_count": 55,
   "id": "ae8d0fc3-f8b1-48eb-9f03-e3a086a59302",
   "metadata": {},
   "outputs": [
    {
     "data": {
      "text/plain": [
       "array([[1, 2, 3],\n",
       "       [4, 5, 6]])"
      ]
     },
     "execution_count": 55,
     "metadata": {},
     "output_type": "execute_result"
    }
   ],
   "source": [
    "arr1 "
   ]
  },
  {
   "cell_type": "code",
   "execution_count": null,
   "id": "d82d2e4a-8529-4a20-9c9b-129668faac0f",
   "metadata": {},
   "outputs": [],
   "source": []
  },
  {
   "cell_type": "code",
   "execution_count": 56,
   "id": "3405f10d-d1b0-4ce1-91d3-af7258465202",
   "metadata": {},
   "outputs": [
    {
     "data": {
      "text/plain": [
       "array([[2, 3, 4],\n",
       "       [6, 7, 8]])"
      ]
     },
     "execution_count": 56,
     "metadata": {},
     "output_type": "execute_result"
    }
   ],
   "source": [
    "arr1 + arr2"
   ]
  },
  {
   "cell_type": "code",
   "execution_count": null,
   "id": "26ecd30d-ff02-4496-b6e8-4fe5f6ceef81",
   "metadata": {},
   "outputs": [],
   "source": []
  },
  {
   "cell_type": "code",
   "execution_count": null,
   "id": "faeb9294-ddc4-420d-88d1-5ec4e6786e79",
   "metadata": {},
   "outputs": [],
   "source": []
  },
  {
   "cell_type": "code",
   "execution_count": null,
   "id": "9d92a2c1-b63d-4258-870b-5c192482f1c6",
   "metadata": {},
   "outputs": [],
   "source": []
  },
  {
   "cell_type": "code",
   "execution_count": 71,
   "id": "4b5d9c65-c17f-4f33-943c-cd0209073695",
   "metadata": {},
   "outputs": [
    {
     "data": {
      "text/plain": [
       "array([8, 1, 7])"
      ]
     },
     "execution_count": 71,
     "metadata": {},
     "output_type": "execute_result"
    }
   ],
   "source": [
    "arr = np.array([8,1,7])\n",
    "arr "
   ]
  },
  {
   "cell_type": "code",
   "execution_count": null,
   "id": "f2b599fb-d345-4f2e-9127-bdd5fbdc4020",
   "metadata": {},
   "outputs": [],
   "source": []
  },
  {
   "cell_type": "code",
   "execution_count": null,
   "id": "5274cdbc-d48f-4216-bbe8-de05f21a0050",
   "metadata": {},
   "outputs": [],
   "source": []
  },
  {
   "cell_type": "code",
   "execution_count": 72,
   "id": "87ba568e-4abe-4e57-a807-276ad55255da",
   "metadata": {},
   "outputs": [
    {
     "data": {
      "text/plain": [
       "array([1, 2, 0], dtype=int64)"
      ]
     },
     "execution_count": 72,
     "metadata": {},
     "output_type": "execute_result"
    }
   ],
   "source": [
    "arr.argsort()\n"
   ]
  },
  {
   "cell_type": "code",
   "execution_count": 76,
   "id": "700ed68e-da48-4bf8-aaad-704ab70bd419",
   "metadata": {},
   "outputs": [
    {
     "data": {
      "text/plain": [
       "array([8, 1, 7])"
      ]
     },
     "execution_count": 76,
     "metadata": {},
     "output_type": "execute_result"
    }
   ],
   "source": [
    "arr "
   ]
  },
  {
   "cell_type": "code",
   "execution_count": 78,
   "id": "ad552a19-5e9e-4bc5-9ee7-b33ebd18ebc9",
   "metadata": {},
   "outputs": [
    {
     "data": {
      "text/plain": [
       "8"
      ]
     },
     "execution_count": 78,
     "metadata": {},
     "output_type": "execute_result"
    }
   ],
   "source": [
    "arr[arr.argmax()]"
   ]
  },
  {
   "cell_type": "code",
   "execution_count": null,
   "id": "84609979-91fd-4dc0-9e6e-4c926d7994d8",
   "metadata": {},
   "outputs": [],
   "source": []
  },
  {
   "cell_type": "code",
   "execution_count": null,
   "id": "76564797-1702-4da5-af90-4e1df4c8acbc",
   "metadata": {},
   "outputs": [],
   "source": []
  },
  {
   "cell_type": "code",
   "execution_count": null,
   "id": "a2f7ed73-4162-4894-8888-2a8b6839d4a2",
   "metadata": {},
   "outputs": [],
   "source": []
  },
  {
   "cell_type": "code",
   "execution_count": 63,
   "id": "8681eb43-8d9d-4c30-9604-517fd0f6d0b4",
   "metadata": {},
   "outputs": [
    {
     "data": {
      "text/plain": [
       "array([3, 0, 1, 2, 4], dtype=int64)"
      ]
     },
     "execution_count": 63,
     "metadata": {},
     "output_type": "execute_result"
    }
   ],
   "source": []
  },
  {
   "cell_type": "code",
   "execution_count": 58,
   "id": "48d04356-2bad-4899-8417-2571d04ca5e8",
   "metadata": {},
   "outputs": [],
   "source": [
    "arr.sort()"
   ]
  },
  {
   "cell_type": "code",
   "execution_count": 59,
   "id": "76c0265a-7a1b-4049-b075-703ae223e660",
   "metadata": {},
   "outputs": [
    {
     "data": {
      "text/plain": [
       "array([1, 4, 6, 7, 8])"
      ]
     },
     "execution_count": 59,
     "metadata": {},
     "output_type": "execute_result"
    }
   ],
   "source": [
    "arr "
   ]
  },
  {
   "cell_type": "code",
   "execution_count": 61,
   "id": "4af59caf-97be-4d40-b834-4175bd553128",
   "metadata": {},
   "outputs": [
    {
     "data": {
      "text/plain": [
       "array([0, 1, 2, 3, 4], dtype=int64)"
      ]
     },
     "execution_count": 61,
     "metadata": {},
     "output_type": "execute_result"
    }
   ],
   "source": [
    "arr.argsort()"
   ]
  }
 ],
 "metadata": {
  "kernelspec": {
   "display_name": "Python 3 (ipykernel)",
   "language": "python",
   "name": "python3"
  },
  "language_info": {
   "codemirror_mode": {
    "name": "ipython",
    "version": 3
   },
   "file_extension": ".py",
   "mimetype": "text/x-python",
   "name": "python",
   "nbconvert_exporter": "python",
   "pygments_lexer": "ipython3",
   "version": "3.11.5"
  }
 },
 "nbformat": 4,
 "nbformat_minor": 5
}
