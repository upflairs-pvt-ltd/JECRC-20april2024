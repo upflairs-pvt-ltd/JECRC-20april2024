{
 "cells": [
  {
   "cell_type": "code",
   "execution_count": 1,
   "metadata": {},
   "outputs": [
    {
     "name": "stdout",
     "output_type": "stream",
     "text": [
      "upflairs\n"
     ]
    }
   ],
   "source": [
    "name = \"upflairs\"\n",
    "print(name )"
   ]
  },
  {
   "cell_type": "code",
   "execution_count": 8,
   "metadata": {},
   "outputs": [
    {
     "name": "stdout",
     "output_type": "stream",
     "text": [
      "30\n",
      "24\n"
     ]
    }
   ],
   "source": [
    "class Student:\n",
    "    def __init__(self):\n",
    "        self.student_name = \"Rohit kumar\"\n",
    "        self.student_age = 24\n",
    "        self.subjects = ['math','chemistry','computer science']\n",
    "\n",
    "#creating object \n",
    "student_obj = Student()\n",
    "student_obj2 = Student()\n",
    "student_obj.student_age = 30\n",
    "\n",
    "\n",
    "print(student_obj.student_age)\n",
    "print(student_obj2.student_age)\n",
    "\n"
   ]
  },
  {
   "cell_type": "code",
   "execution_count": 13,
   "metadata": {},
   "outputs": [
    {
     "name": "stdout",
     "output_type": "stream",
     "text": [
      "i executed\n",
      "i executed\n",
      "24\n",
      "rohit\n",
      "science\n",
      "\n",
      "32\n",
      "mohit\n",
      "math\n"
     ]
    }
   ],
   "source": [
    "class Student:\n",
    "    def __init__(self,name,age,subject):\n",
    "        self.student_name = name\n",
    "        self.student_age = age\n",
    "        self.subjects = subject\n",
    "        print(\"i executed\")\n",
    "\n",
    "\n",
    "    def display(self): \n",
    "        print(self.student_age)\n",
    "        print(self.student_name)\n",
    "        print(self.subjects)\n",
    "\n",
    "\n",
    "\n",
    "#creating object \n",
    "student_obj = Student(name='rohit',age=24,subject=\"science\")\n",
    "student_obj2 = Student(name='mohit',age=32,subject='math')\n",
    "\n",
    "student_obj.display()\n",
    "print()\n",
    "student_obj2.display()\n"
   ]
  }
 ],
 "metadata": {
  "kernelspec": {
   "display_name": "Python 3 (ipykernel)",
   "language": "python",
   "name": "python3"
  },
  "language_info": {
   "codemirror_mode": {
    "name": "ipython",
    "version": 3
   },
   "file_extension": ".py",
   "mimetype": "text/x-python",
   "name": "python",
   "nbconvert_exporter": "python",
   "pygments_lexer": "ipython3",
   "version": "3.11.7"
  }
 },
 "nbformat": 4,
 "nbformat_minor": 4
}
