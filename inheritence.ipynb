{
 "cells": [
  {
   "cell_type": "code",
   "execution_count": 8,
   "id": "641bfc3f-d95d-4d4d-8923-ba9c25649c47",
   "metadata": {},
   "outputs": [
    {
     "name": "stdout",
     "output_type": "stream",
     "text": [
      "constructor is executed \n",
      "my father name is :  dharmpal singh\n",
      "ang my father age is :  62\n"
     ]
    }
   ],
   "source": [
    "class Father:\n",
    "    def __init__(self,name,age):\n",
    "        self.father_name = name\n",
    "        self.father_age = age \n",
    "        print('constructor is executed ')\n",
    "\n",
    "    def display(self):\n",
    "        print('my father name is : ',self.father_name)\n",
    "        print(\"ang my father age is : \",self.father_age)\n",
    "\n",
    "\n",
    "class Son(Father):\n",
    "    \n",
    "    def Son_hii(self):\n",
    "        print(\"Hii i am Radhey\")\n",
    "        print(\"I Am 24 year old\")\n",
    "\n",
    "son_obj = Son(\"dharmpal singh\",62)\n",
    "# print(son_obj.father_name) \n",
    "son_obj.display()\n",
    "\n",
    "# TYPES OF INHERITENCE \n",
    "# 1. SINGLE INHERITENCE \n",
    "# 2. MULTILEVEL \n",
    "# 3. MULTIPLE\n",
    "# 4. HYBRID\n",
    "# 5. HEIRARCHICHAL \n",
    "\n"
   ]
  },
  {
   "cell_type": "code",
   "execution_count": null,
   "id": "a4f1cfee-53a3-4230-8d53-7a188415ce3a",
   "metadata": {},
   "outputs": [],
   "source": []
  }
 ],
 "metadata": {
  "kernelspec": {
   "display_name": "Python 3 (ipykernel)",
   "language": "python",
   "name": "python3"
  },
  "language_info": {
   "codemirror_mode": {
    "name": "ipython",
    "version": 3
   },
   "file_extension": ".py",
   "mimetype": "text/x-python",
   "name": "python",
   "nbconvert_exporter": "python",
   "pygments_lexer": "ipython3",
   "version": "3.11.5"
  }
 },
 "nbformat": 4,
 "nbformat_minor": 5
}
