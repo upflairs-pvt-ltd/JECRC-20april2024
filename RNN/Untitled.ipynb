{
 "cells": [
  {
   "cell_type": "code",
   "execution_count": 63,
   "id": "108e5fd2-a817-4979-b7fb-c1b97ff8a3ec",
   "metadata": {},
   "outputs": [],
   "source": [
    "import nltk \n",
    "import pandas as pd  \n",
    "import  numpy as np \n",
    "import matplotlib.pyplot as plt \n",
    "import seaborn as sns \n",
    "from nltk.corpus import stopwords\n",
    "from nltk.stem import PorterStemmer,WordNetLemmatizer\n",
    "from tensorflow.keras.preprocessing.text import Tokenizer\n",
    "# from sklearn.sklearn.feature_extraction.text import CountVectorizer\n",
    "from tensorflow.keras.utils import pad_sequences "
   ]
  },
  {
   "cell_type": "code",
   "execution_count": 2,
   "id": "4f20e17a-90f7-445e-8ca1-7af270e5debd",
   "metadata": {},
   "outputs": [
    {
     "name": "stdout",
     "output_type": "stream",
     "text": [
      "showing info https://raw.githubusercontent.com/nltk/nltk_data/gh-pages/index.xml\n"
     ]
    },
    {
     "data": {
      "text/plain": [
       "True"
      ]
     },
     "execution_count": 2,
     "metadata": {},
     "output_type": "execute_result"
    }
   ],
   "source": [
    "# nltk.download()"
   ]
  },
  {
   "cell_type": "code",
   "execution_count": 3,
   "id": "ea064eec-86e6-430c-8af4-a0f90e529ea3",
   "metadata": {},
   "outputs": [],
   "source": [
    "test_data = open('data/test.txt').readlines()\n",
    "train_data = open('data/train.txt').readlines()\n",
    "val_data = open('data/val.txt').readlines()\n"
   ]
  },
  {
   "cell_type": "code",
   "execution_count": 4,
   "id": "28163dea-fd09-4bb3-8b0e-9c2913e00cf3",
   "metadata": {},
   "outputs": [
    {
     "data": {
      "text/plain": [
       "2000"
      ]
     },
     "execution_count": 4,
     "metadata": {},
     "output_type": "execute_result"
    }
   ],
   "source": [
    "len(test_data)"
   ]
  },
  {
   "cell_type": "code",
   "execution_count": 5,
   "id": "bcf2c10b-6164-4b7d-9bcd-61c2de2783c1",
   "metadata": {},
   "outputs": [
    {
     "data": {
      "text/plain": [
       "16000"
      ]
     },
     "execution_count": 5,
     "metadata": {},
     "output_type": "execute_result"
    }
   ],
   "source": [
    "len(train_data)"
   ]
  },
  {
   "cell_type": "code",
   "execution_count": 6,
   "id": "e983787e-47bb-4a3f-9556-ef585be17d50",
   "metadata": {},
   "outputs": [
    {
     "data": {
      "text/plain": [
       "2000"
      ]
     },
     "execution_count": 6,
     "metadata": {},
     "output_type": "execute_result"
    }
   ],
   "source": [
    "len(val_data)"
   ]
  },
  {
   "cell_type": "code",
   "execution_count": 7,
   "id": "32696d1b-34a9-4df8-9c44-a9c8126f4f04",
   "metadata": {},
   "outputs": [
    {
     "data": {
      "text/plain": [
       "['mohan', 'rohan', 'rohit', 'kapoor']"
      ]
     },
     "execution_count": 7,
     "metadata": {},
     "output_type": "execute_result"
    }
   ],
   "source": [
    "ls1 = ['mohan','rohan']\n",
    "ls2 = ['rohit','kapoor'] \n",
    "ls1 + ls2 "
   ]
  },
  {
   "cell_type": "code",
   "execution_count": 8,
   "id": "145c80db-ff08-4394-9f49-0e8c6076d1a7",
   "metadata": {},
   "outputs": [],
   "source": [
    "full_data = train_data + test_data + val_data "
   ]
  },
  {
   "cell_type": "code",
   "execution_count": 9,
   "id": "fccac609-f63f-41cb-9c46-cb13893cec3d",
   "metadata": {},
   "outputs": [
    {
     "data": {
      "text/plain": [
       "20000"
      ]
     },
     "execution_count": 9,
     "metadata": {},
     "output_type": "execute_result"
    }
   ],
   "source": [
    "len(full_data) "
   ]
  },
  {
   "cell_type": "code",
   "execution_count": 10,
   "id": "657c9ed2-c536-42a8-b188-1ab61385b8f6",
   "metadata": {},
   "outputs": [
    {
     "data": {
      "text/plain": [
       "'joy'"
      ]
     },
     "execution_count": 10,
     "metadata": {},
     "output_type": "execute_result"
    }
   ],
   "source": [
    "\n",
    "full_data[22].split(';')[1][:-1]"
   ]
  },
  {
   "cell_type": "code",
   "execution_count": 11,
   "id": "d904b98d-b701-4581-a91b-8a7ac932a71b",
   "metadata": {},
   "outputs": [],
   "source": [
    "x = []\n",
    "y = []\n",
    "for message in full_data: \n",
    "    separated_data = message.split(';')\n",
    "    if len(separated_data) == 2: \n",
    "        x.append(separated_data[0])\n",
    "        y.append(separated_data[1][:-1])\n",
    "        \n",
    "        "
   ]
  },
  {
   "cell_type": "code",
   "execution_count": 12,
   "id": "efc00154-f46b-492a-8985-a6ab02d19abd",
   "metadata": {},
   "outputs": [
    {
     "data": {
      "text/plain": [
       "(20000, 20000)"
      ]
     },
     "execution_count": 12,
     "metadata": {},
     "output_type": "execute_result"
    }
   ],
   "source": [
    "len(x),len(y)"
   ]
  },
  {
   "cell_type": "code",
   "execution_count": 13,
   "id": "f16f4ab5-50ca-46f8-a584-fb4c023ddbf1",
   "metadata": {},
   "outputs": [
    {
     "data": {
      "text/plain": [
       "{'anger', 'fear', 'joy', 'love', 'sadness', 'surprise'}"
      ]
     },
     "execution_count": 13,
     "metadata": {},
     "output_type": "execute_result"
    }
   ],
   "source": [
    "label_classes = set(y)\n",
    "label_classes"
   ]
  },
  {
   "cell_type": "code",
   "execution_count": 14,
   "id": "92ca01db-dfc8-4bc2-a157-134ff492fe24",
   "metadata": {},
   "outputs": [
    {
     "data": {
      "text/html": [
       "<div>\n",
       "<style scoped>\n",
       "    .dataframe tbody tr th:only-of-type {\n",
       "        vertical-align: middle;\n",
       "    }\n",
       "\n",
       "    .dataframe tbody tr th {\n",
       "        vertical-align: top;\n",
       "    }\n",
       "\n",
       "    .dataframe thead th {\n",
       "        text-align: right;\n",
       "    }\n",
       "</style>\n",
       "<table border=\"1\" class=\"dataframe\">\n",
       "  <thead>\n",
       "    <tr style=\"text-align: right;\">\n",
       "      <th></th>\n",
       "      <th>messages</th>\n",
       "      <th>labels</th>\n",
       "    </tr>\n",
       "  </thead>\n",
       "  <tbody>\n",
       "    <tr>\n",
       "      <th>0</th>\n",
       "      <td>i didnt feel humiliated</td>\n",
       "      <td>sadness</td>\n",
       "    </tr>\n",
       "    <tr>\n",
       "      <th>1</th>\n",
       "      <td>i can go from feeling so hopeless to so damned...</td>\n",
       "      <td>sadness</td>\n",
       "    </tr>\n",
       "    <tr>\n",
       "      <th>2</th>\n",
       "      <td>im grabbing a minute to post i feel greedy wrong</td>\n",
       "      <td>anger</td>\n",
       "    </tr>\n",
       "    <tr>\n",
       "      <th>3</th>\n",
       "      <td>i am ever feeling nostalgic about the fireplac...</td>\n",
       "      <td>love</td>\n",
       "    </tr>\n",
       "    <tr>\n",
       "      <th>4</th>\n",
       "      <td>i am feeling grouchy</td>\n",
       "      <td>anger</td>\n",
       "    </tr>\n",
       "  </tbody>\n",
       "</table>\n",
       "</div>"
      ],
      "text/plain": [
       "                                            messages   labels\n",
       "0                            i didnt feel humiliated  sadness\n",
       "1  i can go from feeling so hopeless to so damned...  sadness\n",
       "2   im grabbing a minute to post i feel greedy wrong    anger\n",
       "3  i am ever feeling nostalgic about the fireplac...     love\n",
       "4                               i am feeling grouchy    anger"
      ]
     },
     "execution_count": 14,
     "metadata": {},
     "output_type": "execute_result"
    }
   ],
   "source": [
    "df = pd.DataFrame({\"messages\":x,\"labels\":y})\n",
    "df.head()"
   ]
  },
  {
   "cell_type": "code",
   "execution_count": null,
   "id": "32fcc216-157c-4835-b79b-7e997dcfbc76",
   "metadata": {},
   "outputs": [],
   "source": []
  },
  {
   "cell_type": "code",
   "execution_count": 15,
   "id": "8b226949-2fef-48f3-9fad-1028438a77c4",
   "metadata": {},
   "outputs": [],
   "source": [
    "df.to_csv('message.csv',index=False)"
   ]
  },
  {
   "cell_type": "code",
   "execution_count": 16,
   "id": "7e40b831-1b05-447f-bc4e-8a8ce7496167",
   "metadata": {},
   "outputs": [
    {
     "data": {
      "text/plain": [
       "['joy', 'sadness', 'anger', 'fear', 'love', 'surprise']"
      ]
     },
     "execution_count": 16,
     "metadata": {},
     "output_type": "execute_result"
    }
   ],
   "source": [
    "labels = list(df['labels'].value_counts().keys())\n",
    "labels"
   ]
  },
  {
   "cell_type": "code",
   "execution_count": 17,
   "id": "d16a025d-c0aa-461b-b2be-5b446b0f258e",
   "metadata": {},
   "outputs": [
    {
     "data": {
      "text/plain": [
       "[6761, 5797, 2709, 2373, 1641, 719]"
      ]
     },
     "execution_count": 17,
     "metadata": {},
     "output_type": "execute_result"
    }
   ],
   "source": [
    "value = list(df['labels'].value_counts().values )\n",
    "value"
   ]
  },
  {
   "cell_type": "code",
   "execution_count": 18,
   "id": "18599610-f7a2-48b3-a25c-447557720365",
   "metadata": {},
   "outputs": [
    {
     "data": {
      "image/png": "[encoded data removed]",
      "text/plain": [
       "<Figure size 640x480 with 1 Axes>"
      ]
     },
     "metadata": {},
     "output_type": "display_data"
    }
   ],
   "source": [
    "plt.bar(labels,value,color='green',ec='black') \n",
    "plt.title(\"labels printing\")\n",
    "plt.xlabel(\"label class\")\n",
    "plt.ylabel('No. of count')\n",
    "plt.show()"
   ]
  },
  {
   "cell_type": "code",
   "execution_count": 20,
   "id": "e18370d5-0829-4b38-9722-b687c88f5ea4",
   "metadata": {},
   "outputs": [],
   "source": [
    "\n",
    "## text cleaning function \n",
    "def text_cleaning(messages,stemming):\n",
    "    clean_data = []\n",
    "    for message in messages: \n",
    "        message = message.lower()\n",
    "        ls_of_words = nltk.word_tokenize(message)  # \n",
    "        word_without_stop_words = [word for word in ls_of_words if word not in stopwords.words('english')] # removing stopwords \n",
    "        ls_of_stemmed_words = [stemming.stem(word) for word in word_without_stop_words]   # stemming\n",
    "        clean_message = \" \".join(ls_of_stemmed_words) \n",
    "        clean_data.append(clean_message)\n",
    "    return clean_data \n",
    "\n",
    "stemming =  PorterStemmer()\n",
    "clean_data = text_cleaning(messages=x,stemming=stemming)  # calling"
   ]
  },
  {
   "cell_type": "code",
   "execution_count": 31,
   "id": "f68fe513-e043-428f-98e7-de54bee1f26e",
   "metadata": {},
   "outputs": [
    {
     "data": {
      "text/plain": [
       "'i can go from feeling so hopeless to so damned hopeful just from being around someone who cares and is awake'"
      ]
     },
     "execution_count": 31,
     "metadata": {},
     "output_type": "execute_result"
    }
   ],
   "source": [
    "x[1] "
   ]
  },
  {
   "cell_type": "code",
   "execution_count": 32,
   "id": "67ac4bfd-1283-4237-8b02-f771288f3a73",
   "metadata": {},
   "outputs": [
    {
     "data": {
      "text/plain": [
       "'go feel hopeless damn hope around someon care awak'"
      ]
     },
     "execution_count": 32,
     "metadata": {},
     "output_type": "execute_result"
    }
   ],
   "source": [
    "clean_data[1]"
   ]
  },
  {
   "cell_type": "code",
   "execution_count": 24,
   "id": "70a3d48e-8d5a-4538-876a-dd0ec5f4dc06",
   "metadata": {},
   "outputs": [
    {
     "data": {
      "text/plain": [
       "'i didnt feel humiliated'"
      ]
     },
     "execution_count": 24,
     "metadata": {},
     "output_type": "execute_result"
    }
   ],
   "source": [
    "# play, player , played , playing , players \n",
    "\n",
    "# base words  \n",
    "# playe\n",
    "\n",
    "x[0]"
   ]
  },
  {
   "cell_type": "code",
   "execution_count": 38,
   "id": "2d6cf0be-20c3-4614-a5a9-4a2e18f8ce3e",
   "metadata": {},
   "outputs": [],
   "source": [
    "tokenizer_obj = Tokenizer()"
   ]
  },
  {
   "cell_type": "code",
   "execution_count": 39,
   "id": "f72f71bf-3db4-4dc5-9016-09e3a57c7dcd",
   "metadata": {},
   "outputs": [],
   "source": [
    "tokenizer_obj.fit_on_texts(clean_data)"
   ]
  },
  {
   "cell_type": "code",
   "execution_count": 49,
   "id": "dfd6b9a7-5e6b-4f28-989c-24a11521f892",
   "metadata": {},
   "outputs": [
    {
     "data": {
      "text/plain": [
       "'didnt feel humili'"
      ]
     },
     "execution_count": 49,
     "metadata": {},
     "output_type": "execute_result"
    }
   ],
   "source": [
    "# tokenizer_obj.word_index  \n",
    "clean_data[0]  "
   ]
  },
  {
   "cell_type": "code",
   "execution_count": 42,
   "id": "0060d096-da17-4da2-a5e2-1f83075657ac",
   "metadata": {},
   "outputs": [],
   "source": [
    "sequence = tokenizer_obj.texts_to_sequences(clean_data)"
   ]
  },
  {
   "cell_type": "code",
   "execution_count": 53,
   "id": "30d8a680-0d90-4188-af92-b4d7947594de",
   "metadata": {},
   "outputs": [
    {
     "name": "stdout",
     "output_type": "stream",
     "text": [
      "maximum length :  35\n"
     ]
    }
   ],
   "source": [
    "len_of_seq = []\n",
    "for mess  in sequence: \n",
    "    len_of_seq.append(len(mess)) \n",
    "print(\"maximum length : \", max(len_of_seq))"
   ]
  },
  {
   "cell_type": "code",
   "execution_count": 55,
   "id": "56abf867-fe31-4d62-8807-5ac0f9e5b229",
   "metadata": {},
   "outputs": [],
   "source": [
    "sequences = pad_sequences(sequences=sequence,padding='post',maxlen=35,)"
   ]
  },
  {
   "cell_type": "code",
   "execution_count": 56,
   "id": "5f48b6f7-4459-439d-a8eb-5666926d4525",
   "metadata": {},
   "outputs": [
    {
     "data": {
      "text/plain": [
       "array([[  60,    1,  521, ...,    0,    0,    0],\n",
       "       [   9,    1,  418, ...,    0,    0,    0],\n",
       "       [   3, 1229,  430, ...,    0,    0,    0],\n",
       "       ...,\n",
       "       [   1,  193,  156, ...,    0,    0,    0],\n",
       "       [ 327,    1,  174, ...,    0,    0,    0],\n",
       "       [   1,    2,  915, ...,    0,    0,    0]])"
      ]
     },
     "execution_count": 56,
     "metadata": {},
     "output_type": "execute_result"
    }
   ],
   "source": [
    "sequences     ## x  "
   ]
  },
  {
   "cell_type": "code",
   "execution_count": 64,
   "id": "391bfd07-6321-4b05-87c9-b154e624809c",
   "metadata": {},
   "outputs": [],
   "source": [
    "maping_dict = {'anger':0, 'fear':1, 'joy':2, 'love':3, 'sadness':4, 'surprise':5}\n",
    "labels = []\n",
    "for label in y:\n",
    "    labels.append(maping_dict[label])\n",
    "labels = np.array(labels)    "
   ]
  },
  {
   "cell_type": "code",
   "execution_count": 66,
   "id": "a165963f-deae-442e-a24d-f3bfdd9f602f",
   "metadata": {},
   "outputs": [
    {
     "data": {
      "text/plain": [
       "array([4, 4, 0, ..., 2, 2, 2])"
      ]
     },
     "execution_count": 66,
     "metadata": {},
     "output_type": "execute_result"
    }
   ],
   "source": [
    "labels "
   ]
  },
  {
   "cell_type": "code",
   "execution_count": 69,
   "id": "32426793-9ac4-4254-b5a7-1d36d08d6cb4",
   "metadata": {},
   "outputs": [],
   "source": [
    "# sequences   #  <==  x \n",
    "# labels      #  <=== y  \n",
    "from sklearn.model_selection import train_test_split\n",
    "x_train,x_test,y_train,y_test = train_test_split(sequences,labels,test_size=0.2)"
   ]
  },
  {
   "cell_type": "code",
   "execution_count": 71,
   "id": "57bb8ac0-c949-4b4b-a828-c5f318c47faf",
   "metadata": {},
   "outputs": [
    {
     "data": {
      "text/html": [
       "<pre style=\"white-space:pre;overflow-x:auto;line-height:normal;font-family:Menlo,'DejaVu Sans Mono',consolas,'Courier New',monospace\"><span style=\"font-weight: bold\">Model: \"sequential_1\"</span>\n",
       "</pre>\n"
      ],
      "text/plain": [
       "\u001b[1mModel: \"sequential_1\"\u001b[0m\n"
      ]
     },
     "metadata": {},
     "output_type": "display_data"
    },
    {
     "data": {
      "text/html": [
       "<pre style=\"white-space:pre;overflow-x:auto;line-height:normal;font-family:Menlo,'DejaVu Sans Mono',consolas,'Courier New',monospace\">┏━━━━━━━━━━━━━━━━━━━━━━━━━━━━━━━━━━━━━━┳━━━━━━━━━━━━━━━━━━━━━━━━━━━━━┳━━━━━━━━━━━━━━━━━┓\n",
       "┃<span style=\"font-weight: bold\"> Layer (type)                         </span>┃<span style=\"font-weight: bold\"> Output Shape                </span>┃<span style=\"font-weight: bold\">         Param # </span>┃\n",
       "┡━━━━━━━━━━━━━━━━━━━━━━━━━━━━━━━━━━━━━━╇━━━━━━━━━━━━━━━━━━━━━━━━━━━━━╇━━━━━━━━━━━━━━━━━┩\n",
       "│ lstm_2 (<span style=\"color: #0087ff; text-decoration-color: #0087ff\">LSTM</span>)                        │ (<span style=\"color: #00d7ff; text-decoration-color: #00d7ff\">None</span>, <span style=\"color: #00af00; text-decoration-color: #00af00\">35</span>, <span style=\"color: #00af00; text-decoration-color: #00af00\">64</span>)              │          <span style=\"color: #00af00; text-decoration-color: #00af00\">16,896</span> │\n",
       "├──────────────────────────────────────┼─────────────────────────────┼─────────────────┤\n",
       "│ lstm_3 (<span style=\"color: #0087ff; text-decoration-color: #0087ff\">LSTM</span>)                        │ (<span style=\"color: #00d7ff; text-decoration-color: #00d7ff\">None</span>, <span style=\"color: #00af00; text-decoration-color: #00af00\">32</span>)                  │          <span style=\"color: #00af00; text-decoration-color: #00af00\">12,416</span> │\n",
       "├──────────────────────────────────────┼─────────────────────────────┼─────────────────┤\n",
       "│ dense_1 (<span style=\"color: #0087ff; text-decoration-color: #0087ff\">Dense</span>)                      │ (<span style=\"color: #00d7ff; text-decoration-color: #00d7ff\">None</span>, <span style=\"color: #00af00; text-decoration-color: #00af00\">6</span>)                   │             <span style=\"color: #00af00; text-decoration-color: #00af00\">198</span> │\n",
       "└──────────────────────────────────────┴─────────────────────────────┴─────────────────┘\n",
       "</pre>\n"
      ],
      "text/plain": [
       "┏━━━━━━━━━━━━━━━━━━━━━━━━━━━━━━━━━━━━━━┳━━━━━━━━━━━━━━━━━━━━━━━━━━━━━┳━━━━━━━━━━━━━━━━━┓\n",
       "┃\u001b[1m \u001b[0m\u001b[1mLayer (type)                        \u001b[0m\u001b[1m \u001b[0m┃\u001b[1m \u001b[0m\u001b[1mOutput Shape               \u001b[0m\u001b[1m \u001b[0m┃\u001b[1m \u001b[0m\u001b[1m        Param #\u001b[0m\u001b[1m \u001b[0m┃\n",
       "┡━━━━━━━━━━━━━━━━━━━━━━━━━━━━━━━━━━━━━━╇━━━━━━━━━━━━━━━━━━━━━━━━━━━━━╇━━━━━━━━━━━━━━━━━┩\n",
       "│ lstm_2 (\u001b[38;5;33mLSTM\u001b[0m)                        │ (\u001b[38;5;45mNone\u001b[0m, \u001b[38;5;34m35\u001b[0m, \u001b[38;5;34m64\u001b[0m)              │          \u001b[38;5;34m16,896\u001b[0m │\n",
       "├──────────────────────────────────────┼─────────────────────────────┼─────────────────┤\n",
       "│ lstm_3 (\u001b[38;5;33mLSTM\u001b[0m)                        │ (\u001b[38;5;45mNone\u001b[0m, \u001b[38;5;34m32\u001b[0m)                  │          \u001b[38;5;34m12,416\u001b[0m │\n",
       "├──────────────────────────────────────┼─────────────────────────────┼─────────────────┤\n",
       "│ dense_1 (\u001b[38;5;33mDense\u001b[0m)                      │ (\u001b[38;5;45mNone\u001b[0m, \u001b[38;5;34m6\u001b[0m)                   │             \u001b[38;5;34m198\u001b[0m │\n",
       "└──────────────────────────────────────┴─────────────────────────────┴─────────────────┘\n"
      ]
     },
     "metadata": {},
     "output_type": "display_data"
    },
    {
     "data": {
      "text/html": [
       "<pre style=\"white-space:pre;overflow-x:auto;line-height:normal;font-family:Menlo,'DejaVu Sans Mono',consolas,'Courier New',monospace\"><span style=\"font-weight: bold\"> Total params: </span><span style=\"color: #00af00; text-decoration-color: #00af00\">29,510</span> (115.27 KB)\n",
       "</pre>\n"
      ],
      "text/plain": [
       "\u001b[1m Total params: \u001b[0m\u001b[38;5;34m29,510\u001b[0m (115.27 KB)\n"
      ]
     },
     "metadata": {},
     "output_type": "display_data"
    },
    {
     "data": {
      "text/html": [
       "<pre style=\"white-space:pre;overflow-x:auto;line-height:normal;font-family:Menlo,'DejaVu Sans Mono',consolas,'Courier New',monospace\"><span style=\"font-weight: bold\"> Trainable params: </span><span style=\"color: #00af00; text-decoration-color: #00af00\">29,510</span> (115.27 KB)\n",
       "</pre>\n"
      ],
      "text/plain": [
       "\u001b[1m Trainable params: \u001b[0m\u001b[38;5;34m29,510\u001b[0m (115.27 KB)\n"
      ]
     },
     "metadata": {},
     "output_type": "display_data"
    },
    {
     "data": {
      "text/html": [
       "<pre style=\"white-space:pre;overflow-x:auto;line-height:normal;font-family:Menlo,'DejaVu Sans Mono',consolas,'Courier New',monospace\"><span style=\"font-weight: bold\"> Non-trainable params: </span><span style=\"color: #00af00; text-decoration-color: #00af00\">0</span> (0.00 B)\n",
       "</pre>\n"
      ],
      "text/plain": [
       "\u001b[1m Non-trainable params: \u001b[0m\u001b[38;5;34m0\u001b[0m (0.00 B)\n"
      ]
     },
     "metadata": {},
     "output_type": "display_data"
    }
   ],
   "source": [
    "## algorithms  train   \n",
    "# Natural language processing   \n",
    "# artificial neural network   ==> RNN (Recurrent neural network) \n",
    "\n",
    "## RNN define \n",
    "\n",
    "from tensorflow.keras.models import Sequential \n",
    "from tensorflow.keras.layers import Dense, LSTM   # long short term memory \n",
    "\n",
    "model = Sequential([LSTM(units=64,input_shape=(35,1),return_sequences=True),  # hidden layer 1\n",
    "                   LSTM(units=32), # hidden layer 2 \n",
    "                   Dense(units=6,activation='softmax')])  # output layer \n",
    "\n",
    "model.compile(loss=\"sparse_categorical_crossentropy\",optimizer='adam',metrics=['accuracy'])\n",
    "model.summary()"
   ]
  },
  {
   "cell_type": "code",
   "execution_count": 74,
   "id": "7a49bb70-fc25-48e3-b608-cb8e92023415",
   "metadata": {},
   "outputs": [
    {
     "name": "stdout",
     "output_type": "stream",
     "text": [
      "Epoch 1/50\n",
      "\u001b[1m500/500\u001b[0m \u001b[32m━━━━━━━━━━━━━━━━━━━━\u001b[0m\u001b[37m\u001b[0m \u001b[1m12s\u001b[0m 24ms/step - accuracy: 0.3423 - loss: 1.5716 - val_accuracy: 0.3252 - val_loss: 1.5897\n",
      "Epoch 2/50\n",
      "\u001b[1m500/500\u001b[0m \u001b[32m━━━━━━━━━━━━━━━━━━━━\u001b[0m\u001b[37m\u001b[0m \u001b[1m12s\u001b[0m 23ms/step - accuracy: 0.3415 - loss: 1.5733 - val_accuracy: 0.3288 - val_loss: 1.5874\n",
      "Epoch 3/50\n",
      "\u001b[1m500/500\u001b[0m \u001b[32m━━━━━━━━━━━━━━━━━━━━\u001b[0m\u001b[37m\u001b[0m \u001b[1m11s\u001b[0m 21ms/step - accuracy: 0.3434 - loss: 1.5696 - val_accuracy: 0.3318 - val_loss: 1.5865\n",
      "Epoch 4/50\n",
      "\u001b[1m500/500\u001b[0m \u001b[32m━━━━━━━━━━━━━━━━━━━━\u001b[0m\u001b[37m\u001b[0m \u001b[1m11s\u001b[0m 21ms/step - accuracy: 0.3462 - loss: 1.5705 - val_accuracy: 0.3293 - val_loss: 1.5865\n",
      "Epoch 5/50\n",
      "\u001b[1m500/500\u001b[0m \u001b[32m━━━━━━━━━━━━━━━━━━━━\u001b[0m\u001b[37m\u001b[0m \u001b[1m11s\u001b[0m 21ms/step - accuracy: 0.3376 - loss: 1.5705 - val_accuracy: 0.3252 - val_loss: 1.5931\n",
      "Epoch 6/50\n",
      "\u001b[1m500/500\u001b[0m \u001b[32m━━━━━━━━━━━━━━━━━━━━\u001b[0m\u001b[37m\u001b[0m \u001b[1m11s\u001b[0m 21ms/step - accuracy: 0.3414 - loss: 1.5747 - val_accuracy: 0.3318 - val_loss: 1.5876\n",
      "Epoch 7/50\n",
      "\u001b[1m500/500\u001b[0m \u001b[32m━━━━━━━━━━━━━━━━━━━━\u001b[0m\u001b[37m\u001b[0m \u001b[1m11s\u001b[0m 21ms/step - accuracy: 0.3449 - loss: 1.5701 - val_accuracy: 0.3392 - val_loss: 1.5848\n",
      "Epoch 8/50\n",
      "\u001b[1m500/500\u001b[0m \u001b[32m━━━━━━━━━━━━━━━━━━━━\u001b[0m\u001b[37m\u001b[0m \u001b[1m11s\u001b[0m 22ms/step - accuracy: 0.3476 - loss: 1.5734 - val_accuracy: 0.3313 - val_loss: 1.5854\n",
      "Epoch 9/50\n",
      "\u001b[1m500/500\u001b[0m \u001b[32m━━━━━━━━━━━━━━━━━━━━\u001b[0m\u001b[37m\u001b[0m \u001b[1m12s\u001b[0m 25ms/step - accuracy: 0.3498 - loss: 1.5719 - val_accuracy: 0.3372 - val_loss: 1.5838\n",
      "Epoch 10/50\n",
      "\u001b[1m500/500\u001b[0m \u001b[32m━━━━━━━━━━━━━━━━━━━━\u001b[0m\u001b[37m\u001b[0m \u001b[1m19s\u001b[0m 22ms/step - accuracy: 0.3535 - loss: 1.5636 - val_accuracy: 0.3408 - val_loss: 1.5843\n",
      "Epoch 11/50\n",
      "\u001b[1m500/500\u001b[0m \u001b[32m━━━━━━━━━━━━━━━━━━━━\u001b[0m\u001b[37m\u001b[0m \u001b[1m11s\u001b[0m 22ms/step - accuracy: 0.3505 - loss: 1.5645 - val_accuracy: 0.3295 - val_loss: 1.5825\n",
      "Epoch 12/50\n",
      "\u001b[1m500/500\u001b[0m \u001b[32m━━━━━━━━━━━━━━━━━━━━\u001b[0m\u001b[37m\u001b[0m \u001b[1m11s\u001b[0m 23ms/step - accuracy: 0.3507 - loss: 1.5639 - val_accuracy: 0.3318 - val_loss: 1.5862\n",
      "Epoch 13/50\n",
      "\u001b[1m500/500\u001b[0m \u001b[32m━━━━━━━━━━━━━━━━━━━━\u001b[0m\u001b[37m\u001b[0m \u001b[1m11s\u001b[0m 21ms/step - accuracy: 0.3528 - loss: 1.5583 - val_accuracy: 0.3288 - val_loss: 1.5818\n",
      "Epoch 14/50\n",
      "\u001b[1m500/500\u001b[0m \u001b[32m━━━━━━━━━━━━━━━━━━━━\u001b[0m\u001b[37m\u001b[0m \u001b[1m11s\u001b[0m 21ms/step - accuracy: 0.3542 - loss: 1.5589 - val_accuracy: 0.3365 - val_loss: 1.5815\n",
      "Epoch 15/50\n",
      "\u001b[1m500/500\u001b[0m \u001b[32m━━━━━━━━━━━━━━━━━━━━\u001b[0m\u001b[37m\u001b[0m \u001b[1m11s\u001b[0m 22ms/step - accuracy: 0.3512 - loss: 1.5626 - val_accuracy: 0.3318 - val_loss: 1.5816\n",
      "Epoch 16/50\n",
      "\u001b[1m500/500\u001b[0m \u001b[32m━━━━━━━━━━━━━━━━━━━━\u001b[0m\u001b[37m\u001b[0m \u001b[1m11s\u001b[0m 21ms/step - accuracy: 0.3497 - loss: 1.5619 - val_accuracy: 0.3402 - val_loss: 1.5813\n",
      "Epoch 17/50\n",
      "\u001b[1m500/500\u001b[0m \u001b[32m━━━━━━━━━━━━━━━━━━━━\u001b[0m\u001b[37m\u001b[0m \u001b[1m11s\u001b[0m 22ms/step - accuracy: 0.3543 - loss: 1.5659 - val_accuracy: 0.3402 - val_loss: 1.5803\n",
      "Epoch 18/50\n",
      "\u001b[1m500/500\u001b[0m \u001b[32m━━━━━━━━━━━━━━━━━━━━\u001b[0m\u001b[37m\u001b[0m \u001b[1m11s\u001b[0m 21ms/step - accuracy: 0.3538 - loss: 1.5670 - val_accuracy: 0.3345 - val_loss: 1.5793\n",
      "Epoch 19/50\n",
      "\u001b[1m500/500\u001b[0m \u001b[32m━━━━━━━━━━━━━━━━━━━━\u001b[0m\u001b[37m\u001b[0m \u001b[1m11s\u001b[0m 23ms/step - accuracy: 0.3463 - loss: 1.5627 - val_accuracy: 0.3360 - val_loss: 1.5784\n",
      "Epoch 20/50\n",
      "\u001b[1m500/500\u001b[0m \u001b[32m━━━━━━━━━━━━━━━━━━━━\u001b[0m\u001b[37m\u001b[0m \u001b[1m11s\u001b[0m 22ms/step - accuracy: 0.3485 - loss: 1.5586 - val_accuracy: 0.3338 - val_loss: 1.5789\n",
      "Epoch 21/50\n",
      "\u001b[1m500/500\u001b[0m \u001b[32m━━━━━━━━━━━━━━━━━━━━\u001b[0m\u001b[37m\u001b[0m \u001b[1m11s\u001b[0m 21ms/step - accuracy: 0.3531 - loss: 1.5591 - val_accuracy: 0.3487 - val_loss: 1.5817\n",
      "Epoch 22/50\n",
      "\u001b[1m500/500\u001b[0m \u001b[32m━━━━━━━━━━━━━━━━━━━━\u001b[0m\u001b[37m\u001b[0m \u001b[1m11s\u001b[0m 22ms/step - accuracy: 0.3478 - loss: 1.5547 - val_accuracy: 0.3338 - val_loss: 1.5807\n",
      "Epoch 23/50\n",
      "\u001b[1m500/500\u001b[0m \u001b[32m━━━━━━━━━━━━━━━━━━━━\u001b[0m\u001b[37m\u001b[0m \u001b[1m11s\u001b[0m 22ms/step - accuracy: 0.3542 - loss: 1.5605 - val_accuracy: 0.3410 - val_loss: 1.5814\n",
      "Epoch 24/50\n",
      "\u001b[1m500/500\u001b[0m \u001b[32m━━━━━━━━━━━━━━━━━━━━\u001b[0m\u001b[37m\u001b[0m \u001b[1m13s\u001b[0m 26ms/step - accuracy: 0.3512 - loss: 1.5582 - val_accuracy: 0.3290 - val_loss: 1.5821\n",
      "Epoch 25/50\n",
      "\u001b[1m500/500\u001b[0m \u001b[32m━━━━━━━━━━━━━━━━━━━━\u001b[0m\u001b[37m\u001b[0m \u001b[1m13s\u001b[0m 26ms/step - accuracy: 0.3583 - loss: 1.5481 - val_accuracy: 0.3355 - val_loss: 1.5783\n",
      "Epoch 26/50\n",
      "\u001b[1m500/500\u001b[0m \u001b[32m━━━━━━━━━━━━━━━━━━━━\u001b[0m\u001b[37m\u001b[0m \u001b[1m20s\u001b[0m 25ms/step - accuracy: 0.3677 - loss: 1.5469 - val_accuracy: 0.3370 - val_loss: 1.5784\n",
      "Epoch 27/50\n",
      "\u001b[1m500/500\u001b[0m \u001b[32m━━━━━━━━━━━━━━━━━━━━\u001b[0m\u001b[37m\u001b[0m \u001b[1m11s\u001b[0m 23ms/step - accuracy: 0.3578 - loss: 1.5477 - val_accuracy: 0.3392 - val_loss: 1.5762\n",
      "Epoch 28/50\n",
      "\u001b[1m500/500\u001b[0m \u001b[32m━━━━━━━━━━━━━━━━━━━━\u001b[0m\u001b[37m\u001b[0m \u001b[1m12s\u001b[0m 24ms/step - accuracy: 0.3629 - loss: 1.5518 - val_accuracy: 0.3352 - val_loss: 1.5794\n",
      "Epoch 29/50\n",
      "\u001b[1m500/500\u001b[0m \u001b[32m━━━━━━━━━━━━━━━━━━━━\u001b[0m\u001b[37m\u001b[0m \u001b[1m12s\u001b[0m 24ms/step - accuracy: 0.3559 - loss: 1.5501 - val_accuracy: 0.3400 - val_loss: 1.5782\n",
      "Epoch 30/50\n",
      "\u001b[1m500/500\u001b[0m \u001b[32m━━━━━━━━━━━━━━━━━━━━\u001b[0m\u001b[37m\u001b[0m \u001b[1m11s\u001b[0m 23ms/step - accuracy: 0.3613 - loss: 1.5387 - val_accuracy: 0.3430 - val_loss: 1.5794\n",
      "Epoch 31/50\n",
      "\u001b[1m500/500\u001b[0m \u001b[32m━━━━━━━━━━━━━━━━━━━━\u001b[0m\u001b[37m\u001b[0m \u001b[1m21s\u001b[0m 24ms/step - accuracy: 0.3592 - loss: 1.5459 - val_accuracy: 0.3442 - val_loss: 1.5756\n",
      "Epoch 32/50\n",
      "\u001b[1m500/500\u001b[0m \u001b[32m━━━━━━━━━━━━━━━━━━━━\u001b[0m\u001b[37m\u001b[0m \u001b[1m21s\u001b[0m 26ms/step - accuracy: 0.3537 - loss: 1.5539 - val_accuracy: 0.3438 - val_loss: 1.5788\n",
      "Epoch 33/50\n",
      "\u001b[1m500/500\u001b[0m \u001b[32m━━━━━━━━━━━━━━━━━━━━\u001b[0m\u001b[37m\u001b[0m \u001b[1m19s\u001b[0m 23ms/step - accuracy: 0.3595 - loss: 1.5436 - val_accuracy: 0.3397 - val_loss: 1.5766\n",
      "Epoch 34/50\n",
      "\u001b[1m500/500\u001b[0m \u001b[32m━━━━━━━━━━━━━━━━━━━━\u001b[0m\u001b[37m\u001b[0m \u001b[1m21s\u001b[0m 24ms/step - accuracy: 0.3642 - loss: 1.5380 - val_accuracy: 0.3440 - val_loss: 1.5845\n",
      "Epoch 35/50\n",
      "\u001b[1m500/500\u001b[0m \u001b[32m━━━━━━━━━━━━━━━━━━━━\u001b[0m\u001b[37m\u001b[0m \u001b[1m12s\u001b[0m 24ms/step - accuracy: 0.3625 - loss: 1.5476 - val_accuracy: 0.3385 - val_loss: 1.5782\n",
      "Epoch 36/50\n",
      "\u001b[1m500/500\u001b[0m \u001b[32m━━━━━━━━━━━━━━━━━━━━\u001b[0m\u001b[37m\u001b[0m \u001b[1m13s\u001b[0m 25ms/step - accuracy: 0.3613 - loss: 1.5479 - val_accuracy: 0.3445 - val_loss: 1.5772\n",
      "Epoch 37/50\n",
      "\u001b[1m500/500\u001b[0m \u001b[32m━━━━━━━━━━━━━━━━━━━━\u001b[0m\u001b[37m\u001b[0m \u001b[1m11s\u001b[0m 23ms/step - accuracy: 0.3590 - loss: 1.5363 - val_accuracy: 0.3433 - val_loss: 1.5743\n",
      "Epoch 38/50\n",
      "\u001b[1m500/500\u001b[0m \u001b[32m━━━━━━━━━━━━━━━━━━━━\u001b[0m\u001b[37m\u001b[0m \u001b[1m21s\u001b[0m 24ms/step - accuracy: 0.3745 - loss: 1.5212 - val_accuracy: 0.3405 - val_loss: 1.5768\n",
      "Epoch 39/50\n",
      "\u001b[1m500/500\u001b[0m \u001b[32m━━━━━━━━━━━━━━━━━━━━\u001b[0m\u001b[37m\u001b[0m \u001b[1m12s\u001b[0m 24ms/step - accuracy: 0.3687 - loss: 1.5308 - val_accuracy: 0.3375 - val_loss: 1.5782\n",
      "Epoch 40/50\n",
      "\u001b[1m500/500\u001b[0m \u001b[32m━━━━━━━━━━━━━━━━━━━━\u001b[0m\u001b[37m\u001b[0m \u001b[1m20s\u001b[0m 23ms/step - accuracy: 0.3652 - loss: 1.5387 - val_accuracy: 0.3505 - val_loss: 1.5797\n",
      "Epoch 41/50\n",
      "\u001b[1m500/500\u001b[0m \u001b[32m━━━━━━━━━━━━━━━━━━━━\u001b[0m\u001b[37m\u001b[0m \u001b[1m12s\u001b[0m 23ms/step - accuracy: 0.3687 - loss: 1.5350 - val_accuracy: 0.3498 - val_loss: 1.5751\n",
      "Epoch 42/50\n",
      "\u001b[1m500/500\u001b[0m \u001b[32m━━━━━━━━━━━━━━━━━━━━\u001b[0m\u001b[37m\u001b[0m \u001b[1m12s\u001b[0m 23ms/step - accuracy: 0.3725 - loss: 1.5335 - val_accuracy: 0.3453 - val_loss: 1.5785\n",
      "Epoch 43/50\n",
      "\u001b[1m500/500\u001b[0m \u001b[32m━━━━━━━━━━━━━━━━━━━━\u001b[0m\u001b[37m\u001b[0m \u001b[1m11s\u001b[0m 23ms/step - accuracy: 0.3704 - loss: 1.5237 - val_accuracy: 0.3447 - val_loss: 1.5804\n",
      "Epoch 44/50\n",
      "\u001b[1m500/500\u001b[0m \u001b[32m━━━━━━━━━━━━━━━━━━━━\u001b[0m\u001b[37m\u001b[0m \u001b[1m12s\u001b[0m 25ms/step - accuracy: 0.3683 - loss: 1.5346 - val_accuracy: 0.3498 - val_loss: 1.5785\n",
      "Epoch 45/50\n",
      "\u001b[1m500/500\u001b[0m \u001b[32m━━━━━━━━━━━━━━━━━━━━\u001b[0m\u001b[37m\u001b[0m \u001b[1m20s\u001b[0m 24ms/step - accuracy: 0.3668 - loss: 1.5287 - val_accuracy: 0.3433 - val_loss: 1.5817\n",
      "Epoch 46/50\n",
      "\u001b[1m500/500\u001b[0m \u001b[32m━━━━━━━━━━━━━━━━━━━━\u001b[0m\u001b[37m\u001b[0m \u001b[1m12s\u001b[0m 24ms/step - accuracy: 0.3718 - loss: 1.5231 - val_accuracy: 0.3460 - val_loss: 1.5801\n",
      "Epoch 47/50\n",
      "\u001b[1m500/500\u001b[0m \u001b[32m━━━━━━━━━━━━━━━━━━━━\u001b[0m\u001b[37m\u001b[0m \u001b[1m12s\u001b[0m 24ms/step - accuracy: 0.3787 - loss: 1.5113 - val_accuracy: 0.3395 - val_loss: 1.5834\n",
      "Epoch 48/50\n",
      "\u001b[1m500/500\u001b[0m \u001b[32m━━━━━━━━━━━━━━━━━━━━\u001b[0m\u001b[37m\u001b[0m \u001b[1m12s\u001b[0m 24ms/step - accuracy: 0.3743 - loss: 1.5209 - val_accuracy: 0.3413 - val_loss: 1.5823\n",
      "Epoch 49/50\n",
      "\u001b[1m500/500\u001b[0m \u001b[32m━━━━━━━━━━━━━━━━━━━━\u001b[0m\u001b[37m\u001b[0m \u001b[1m12s\u001b[0m 24ms/step - accuracy: 0.3742 - loss: 1.5211 - val_accuracy: 0.3417 - val_loss: 1.5845\n",
      "Epoch 50/50\n",
      "\u001b[1m500/500\u001b[0m \u001b[32m━━━━━━━━━━━━━━━━━━━━\u001b[0m\u001b[37m\u001b[0m \u001b[1m21s\u001b[0m 26ms/step - accuracy: 0.3827 - loss: 1.5137 - val_accuracy: 0.3438 - val_loss: 1.5831\n"
     ]
    }
   ],
   "source": [
    "history = model.fit(x_train,y_train,epochs=50,validation_data=(x_test,y_test))"
   ]
  },
  {
   "cell_type": "code",
   "execution_count": 75,
   "id": "edc17e1c-02a5-422f-a200-312c758e010e",
   "metadata": {},
   "outputs": [
    {
     "name": "stdout",
     "output_type": "stream",
     "text": [
      "\u001b[1m125/125\u001b[0m \u001b[32m━━━━━━━━━━━━━━━━━━━━\u001b[0m\u001b[37m\u001b[0m \u001b[1m2s\u001b[0m 11ms/step\n"
     ]
    }
   ],
   "source": [
    "## prediction \n",
    "pred = model.predict(x_test)"
   ]
  },
  {
   "cell_type": "code",
   "execution_count": 76,
   "id": "fa2bf58c-8fb4-4e25-93b6-b21a76623f4a",
   "metadata": {},
   "outputs": [
    {
     "data": {
      "text/plain": [
       "array([[0.0880723 , 0.08574983, 0.44362584, 0.09560161, 0.22906606,\n",
       "        0.05788438],\n",
       "       [0.13714387, 0.1480082 , 0.29848728, 0.0617166 , 0.32086125,\n",
       "        0.03378282],\n",
       "       [0.13405554, 0.14720011, 0.26691875, 0.06407972, 0.353924  ,\n",
       "        0.03382188],\n",
       "       ...,\n",
       "       [0.10095989, 0.11280041, 0.4005047 , 0.08403582, 0.24432063,\n",
       "        0.05737852],\n",
       "       [0.144007  , 0.11770254, 0.33688745, 0.0601606 , 0.30910566,\n",
       "        0.03213679],\n",
       "       [0.08756766, 0.07607393, 0.40245786, 0.08029085, 0.29419515,\n",
       "        0.05941458]], dtype=float32)"
      ]
     },
     "execution_count": 76,
     "metadata": {},
     "output_type": "execute_result"
    }
   ],
   "source": [
    "pred "
   ]
  },
  {
   "cell_type": "code",
   "execution_count": 78,
   "id": "5ba34dc6-a52e-4f6b-8a29-a853ece779d2",
   "metadata": {},
   "outputs": [],
   "source": [
    "prediction = np.argmax(pred,axis=1)   # highest probability "
   ]
  },
  {
   "cell_type": "code",
   "execution_count": 80,
   "id": "e7442e15-ec24-4b65-83db-3934f0b58a45",
   "metadata": {},
   "outputs": [
    {
     "data": {
      "text/plain": [
       "array([2, 4, 4, ..., 2, 2, 2], dtype=int64)"
      ]
     },
     "execution_count": 80,
     "metadata": {},
     "output_type": "execute_result"
    }
   ],
   "source": [
    "prediction"
   ]
  },
  {
   "cell_type": "code",
   "execution_count": 82,
   "id": "82a327f0-30f9-4c62-9fe5-fed9038cdbf1",
   "metadata": {},
   "outputs": [
    {
     "data": {
      "text/plain": [
       "((4000,), (4000,))"
      ]
     },
     "execution_count": 82,
     "metadata": {},
     "output_type": "execute_result"
    }
   ],
   "source": [
    "y_test.shape , prediction.shape "
   ]
  },
  {
   "cell_type": "code",
   "execution_count": 85,
   "id": "e5716f88-e2f2-4630-a39a-be198cb410f0",
   "metadata": {},
   "outputs": [
    {
     "data": {
      "text/plain": [
       "array([2, 2, 4, 2, 2, 2, 2, 4, 2, 4])"
      ]
     },
     "execution_count": 85,
     "metadata": {},
     "output_type": "execute_result"
    }
   ],
   "source": [
    "y_test[:10]  # actual 10 values "
   ]
  },
  {
   "cell_type": "code",
   "execution_count": 86,
   "id": "2c17c3e3-f54d-48eb-b13a-151262ce7b11",
   "metadata": {},
   "outputs": [
    {
     "data": {
      "text/plain": [
       "array([2, 4, 4, 4, 4, 2, 4, 2, 2, 2], dtype=int64)"
      ]
     },
     "execution_count": 86,
     "metadata": {},
     "output_type": "execute_result"
    }
   ],
   "source": [
    "prediction[:10]"
   ]
  },
  {
   "cell_type": "code",
   "execution_count": 87,
   "id": "9b2b02fa-7455-4b1f-b7f1-f922b7b15e37",
   "metadata": {},
   "outputs": [
    {
     "data": {
      "text/plain": [
       "{'anger': 0, 'fear': 1, 'joy': 2, 'love': 3, 'sadness': 4, 'surprise': 5}"
      ]
     },
     "execution_count": 87,
     "metadata": {},
     "output_type": "execute_result"
    }
   ],
   "source": [
    "maping_dict"
   ]
  },
  {
   "cell_type": "code",
   "execution_count": null,
   "id": "1fd92610-4160-4b9f-b5aa-7bd04d948db7",
   "metadata": {},
   "outputs": [],
   "source": []
  }
 ],
 "metadata": {
  "kernelspec": {
   "display_name": "Python 3 (ipykernel)",
   "language": "python",
   "name": "python3"
  },
  "language_info": {
   "codemirror_mode": {
    "name": "ipython",
    "version": 3
   },
   "file_extension": ".py",
   "mimetype": "text/x-python",
   "name": "python",
   "nbconvert_exporter": "python",
   "pygments_lexer": "ipython3",
   "version": "3.12.4"
  }
 },
 "nbformat": 4,
 "nbformat_minor": 5
}
