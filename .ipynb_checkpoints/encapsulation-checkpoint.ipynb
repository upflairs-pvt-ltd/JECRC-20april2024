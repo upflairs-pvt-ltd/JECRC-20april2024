{
 "cells": [
  {
   "cell_type": "code",
   "execution_count": 7,
   "id": "1c2ecc2b-3771-411e-90e7-577df9504cd2",
   "metadata": {},
   "outputs": [],
   "source": [
    "class Manager: \n",
    "    def __init__(self):\n",
    "        self.employe_1 = 'harsh sharma'\n",
    "        self.employe_2 = 'mohit sharma'\n",
    "        self.employe_1_id = '12545 sharma'\n",
    "        self.employe_2_id = '12545 dfdf'\n",
    "\n",
    "        #protected variables \n",
    "        # self._manager = \"salman khan\"\n",
    "        # self._manager_id = \"23164dfdf\"\n",
    "\n",
    "# private variables\n",
    "        self.__manager = \"salman khan\"\n",
    "        self.__manager_id = \"23164dfdf\"\n",
    "    \n",
    "\n",
    "class Employee(Manager):\n",
    "    def employee_hii(self): \n",
    "        print(self.employe_1)\n",
    "        print(self.employe_2)\n",
    "\n",
    "    def manager_hii(self): \n",
    "        print(self.__manager)\n",
    "        print(self.__manager_id)\n",
    "      \n",
    "## variable types \n",
    "# 1. public variable   ## accessible from everywhere\n",
    "# 2. protected variable   # access in a sub class \n",
    "# 3. private variable   # you can only access in the class "
   ]
  },
  {
   "cell_type": "code",
   "execution_count": 8,
   "id": "e6fc35f4-76cd-4e1f-a59e-f65d2893023d",
   "metadata": {},
   "outputs": [],
   "source": [
    "obj = Employee()"
   ]
  },
  {
   "cell_type": "code",
   "execution_count": 9,
   "id": "bdf0177c-c46e-4eae-835f-07f4232aefda",
   "metadata": {},
   "outputs": [
    {
     "name": "stdout",
     "output_type": "stream",
     "text": [
      "harsh sharma\n",
      "mohit sharma\n",
      "\n"
     ]
    },
    {
     "ename": "AttributeError",
     "evalue": "'Employee' object has no attribute '_Employee__manager'",
     "output_type": "error",
     "traceback": [
      "\u001b[1;31m---------------------------------------------------------------------------\u001b[0m",
      "\u001b[1;31mAttributeError\u001b[0m                            Traceback (most recent call last)",
      "Cell \u001b[1;32mIn[9], line 3\u001b[0m\n\u001b[0;32m      1\u001b[0m obj\u001b[38;5;241m.\u001b[39memployee_hii()\n\u001b[0;32m      2\u001b[0m \u001b[38;5;28mprint\u001b[39m()\n\u001b[1;32m----> 3\u001b[0m \u001b[43mobj\u001b[49m\u001b[38;5;241;43m.\u001b[39;49m\u001b[43mmanager_hii\u001b[49m\u001b[43m(\u001b[49m\u001b[43m)\u001b[49m\n",
      "Cell \u001b[1;32mIn[7], line 23\u001b[0m, in \u001b[0;36mEmployee.manager_hii\u001b[1;34m(self)\u001b[0m\n\u001b[0;32m     22\u001b[0m \u001b[38;5;28;01mdef\u001b[39;00m \u001b[38;5;21mmanager_hii\u001b[39m(\u001b[38;5;28mself\u001b[39m): \n\u001b[1;32m---> 23\u001b[0m     \u001b[38;5;28mprint\u001b[39m(\u001b[38;5;28;43mself\u001b[39;49m\u001b[38;5;241;43m.\u001b[39;49m\u001b[43m__manager\u001b[49m)\n\u001b[0;32m     24\u001b[0m     \u001b[38;5;28mprint\u001b[39m(\u001b[38;5;28mself\u001b[39m\u001b[38;5;241m.\u001b[39m__manager_id)\n",
      "\u001b[1;31mAttributeError\u001b[0m: 'Employee' object has no attribute '_Employee__manager'"
     ]
    }
   ],
   "source": [
    "obj.employee_hii()\n",
    "print()\n",
    "obj.manager_hii()"
   ]
  },
  {
   "cell_type": "code",
   "execution_count": 10,
   "id": "03aa583a-e013-40f3-a507-55393192f1a4",
   "metadata": {},
   "outputs": [],
   "source": [
    "class student: \n",
    "    def __init__(self):\n",
    "        self.employe_1 = 'harsh sharma'\n",
    "        self.employe_2 = 'mohit sharma'\n",
    "        self.employe_1_id = '12545 sharma'\n",
    "        self.employe_2_id = '12545 dfdf'\n",
    "\n"
   ]
  },
  {
   "cell_type": "code",
   "execution_count": 11,
   "id": "ea63d6ed-b6fb-4462-997c-7cdcff8c98f4",
   "metadata": {},
   "outputs": [],
   "source": [
    "obj = student()"
   ]
  },
  {
   "cell_type": "code",
   "execution_count": 12,
   "id": "9e79b136-02dd-4155-b9e0-7eee3710f4c2",
   "metadata": {},
   "outputs": [
    {
     "data": {
      "text/plain": [
       "{'employe_1': 'harsh sharma',\n",
       " 'employe_2': 'mohit sharma',\n",
       " 'employe_1_id': '12545 sharma',\n",
       " 'employe_2_id': '12545 dfdf'}"
      ]
     },
     "execution_count": 12,
     "metadata": {},
     "output_type": "execute_result"
    }
   ],
   "source": [
    "obj.__dict__"
   ]
  }
 ],
 "metadata": {
  "kernelspec": {
   "display_name": "Python 3 (ipykernel)",
   "language": "python",
   "name": "python3"
  },
  "language_info": {
   "codemirror_mode": {
    "name": "ipython",
    "version": 3
   },
   "file_extension": ".py",
   "mimetype": "text/x-python",
   "name": "python",
   "nbconvert_exporter": "python",
   "pygments_lexer": "ipython3",
   "version": "3.11.5"
  }
 },
 "nbformat": 4,
 "nbformat_minor": 5
}
