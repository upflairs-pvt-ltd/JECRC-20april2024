{
 "cells": [
  {
   "cell_type": "code",
   "execution_count": 1,
   "id": "a274d420-5fd7-4555-9098-94869f67840d",
   "metadata": {},
   "outputs": [],
   "source": [
    "import numpy as np "
   ]
  },
  {
   "cell_type": "code",
   "execution_count": 11,
   "id": "f6feb8c7-c3f0-4a30-a9ce-f25a8496e5bf",
   "metadata": {},
   "outputs": [
    {
     "data": {
      "text/plain": [
       "array([25.  , 41.  , 63.  , 89.  , 78.  , 58.2 , 85.52])"
      ]
     },
     "execution_count": 11,
     "metadata": {},
     "output_type": "execute_result"
    }
   ],
   "source": [
    "lst = [25,41,63,89,78,58.2,85.52]\n",
    "arr = np.array(lst)\n",
    "arr"
   ]
  },
  {
   "cell_type": "code",
   "execution_count": 3,
   "id": "73b79e9b-459b-420d-af61-35c257dc9855",
   "metadata": {},
   "outputs": [
    {
     "name": "stdout",
     "output_type": "stream",
     "text": [
      "<class 'numpy.ndarray'>\n"
     ]
    }
   ],
   "source": [
    "print(type(arr))"
   ]
  },
  {
   "cell_type": "code",
   "execution_count": 7,
   "id": "ebbd5de7-1c0c-45a3-95cc-8ccb3d10c97f",
   "metadata": {},
   "outputs": [
    {
     "data": {
      "text/plain": [
       "dtype('float64')"
      ]
     },
     "execution_count": 7,
     "metadata": {},
     "output_type": "execute_result"
    }
   ],
   "source": [
    "arr.dtype"
   ]
  },
  {
   "cell_type": "code",
   "execution_count": 13,
   "id": "77a63ae7-ffdb-477e-91c2-525a7e6eade2",
   "metadata": {},
   "outputs": [
    {
     "data": {
      "text/plain": [
       "array([25.  , 41.  , 63.  , 89.  , 78.  , 58.2 , 85.52])"
      ]
     },
     "execution_count": 13,
     "metadata": {},
     "output_type": "execute_result"
    }
   ],
   "source": [
    "arr "
   ]
  },
  {
   "cell_type": "code",
   "execution_count": 20,
   "id": "1378aa19-10ea-4d5f-b412-0b0bc70babe4",
   "metadata": {},
   "outputs": [
    {
     "data": {
      "text/plain": [
       "array([85.52, 58.2 , 78.  , 89.  , 63.  , 41.  , 25.  ])"
      ]
     },
     "execution_count": 20,
     "metadata": {},
     "output_type": "execute_result"
    }
   ],
   "source": [
    "arr[::-1]"
   ]
  },
  {
   "cell_type": "code",
   "execution_count": 21,
   "id": "fb842c11-2dc9-4171-b7bb-61075057a540",
   "metadata": {},
   "outputs": [
    {
     "data": {
      "text/plain": [
       "array([25.  , 41.  , 63.  , 89.  , 78.  , 58.2 , 85.52])"
      ]
     },
     "execution_count": 21,
     "metadata": {},
     "output_type": "execute_result"
    }
   ],
   "source": [
    "arr "
   ]
  },
  {
   "cell_type": "code",
   "execution_count": 24,
   "id": "94cf1f28-2c3e-43f1-9d60-661dc8f98473",
   "metadata": {},
   "outputs": [
    {
     "data": {
      "text/plain": [
       "array([85.52, 58.2 ])"
      ]
     },
     "execution_count": 24,
     "metadata": {},
     "output_type": "execute_result"
    }
   ],
   "source": [
    "arr[-1:-3:-1]"
   ]
  },
  {
   "cell_type": "code",
   "execution_count": 25,
   "id": "570dd237-ee86-4e87-bce8-5b4c02e6d06d",
   "metadata": {},
   "outputs": [
    {
     "data": {
      "text/plain": [
       "1"
      ]
     },
     "execution_count": 25,
     "metadata": {},
     "output_type": "execute_result"
    }
   ],
   "source": [
    "arr.ndim"
   ]
  },
  {
   "cell_type": "code",
   "execution_count": 26,
   "id": "49c1a0aa-ba5c-4b5a-b580-6ade19ad6fad",
   "metadata": {},
   "outputs": [
    {
     "data": {
      "text/plain": [
       "array([ 0,  1,  2,  3,  4,  5,  6,  7,  8,  9, 10, 11, 12, 13, 14, 15, 16,\n",
       "       17, 18, 19])"
      ]
     },
     "execution_count": 26,
     "metadata": {},
     "output_type": "execute_result"
    }
   ],
   "source": [
    "np.arange(20)"
   ]
  },
  {
   "cell_type": "code",
   "execution_count": 27,
   "id": "81ffb154-77d7-43a4-86d7-686b461cfd6f",
   "metadata": {},
   "outputs": [
    {
     "data": {
      "text/plain": [
       "array([0., 0., 0., 0., 0., 0., 0., 0., 0., 0.])"
      ]
     },
     "execution_count": 27,
     "metadata": {},
     "output_type": "execute_result"
    }
   ],
   "source": [
    "np.zeros(10)"
   ]
  },
  {
   "cell_type": "code",
   "execution_count": 28,
   "id": "c1311b4d-429d-4d07-a699-4dddb6284e9a",
   "metadata": {},
   "outputs": [
    {
     "data": {
      "text/plain": [
       "array([1., 1., 1., 1., 1., 1., 1., 1., 1., 1.])"
      ]
     },
     "execution_count": 28,
     "metadata": {},
     "output_type": "execute_result"
    }
   ],
   "source": [
    "np.ones(10)"
   ]
  },
  {
   "cell_type": "code",
   "execution_count": 29,
   "id": "6fe8994d-7682-46c1-af86-be337188083a",
   "metadata": {},
   "outputs": [
    {
     "data": {
      "text/plain": [
       "array([1.        , 1.44444444, 1.88888889, 2.33333333, 2.77777778,\n",
       "       3.22222222, 3.66666667, 4.11111111, 4.55555556, 5.        ])"
      ]
     },
     "execution_count": 29,
     "metadata": {},
     "output_type": "execute_result"
    }
   ],
   "source": [
    "## 1 - 10  10\n",
    "np.linspace(1,5,10)"
   ]
  },
  {
   "cell_type": "code",
   "execution_count": 31,
   "id": "6a59c04e-5562-42c6-b82f-138e9d7689dc",
   "metadata": {},
   "outputs": [],
   "source": [
    "arr2 = np.array([[52,63,52,85],\n",
    "[52,63,52,85],\n",
    "[52,63,52,85]])"
   ]
  },
  {
   "cell_type": "code",
   "execution_count": 32,
   "id": "b0f65fa0-225e-4eff-b70a-9af50e5f8b57",
   "metadata": {},
   "outputs": [
    {
     "data": {
      "text/plain": [
       "array([[52, 63, 52, 85],\n",
       "       [52, 63, 52, 85],\n",
       "       [52, 63, 52, 85]])"
      ]
     },
     "execution_count": 32,
     "metadata": {},
     "output_type": "execute_result"
    }
   ],
   "source": [
    "arr2"
   ]
  },
  {
   "cell_type": "code",
   "execution_count": 33,
   "id": "c0879765-9fde-4739-86ad-fdfb96185a99",
   "metadata": {},
   "outputs": [
    {
     "data": {
      "text/plain": [
       "2"
      ]
     },
     "execution_count": 33,
     "metadata": {},
     "output_type": "execute_result"
    }
   ],
   "source": [
    "arr2.ndim "
   ]
  },
  {
   "cell_type": "code",
   "execution_count": 34,
   "id": "af788e18-e792-49f6-ae58-a32d37f7aea1",
   "metadata": {},
   "outputs": [
    {
     "data": {
      "text/plain": [
       "(3, 4)"
      ]
     },
     "execution_count": 34,
     "metadata": {},
     "output_type": "execute_result"
    }
   ],
   "source": [
    "arr2.shape"
   ]
  },
  {
   "cell_type": "code",
   "execution_count": 35,
   "id": "00be49ad-21cd-4514-9e40-ac8f4979f8a1",
   "metadata": {},
   "outputs": [
    {
     "data": {
      "text/plain": [
       "array([[52, 63, 52, 85],\n",
       "       [52, 63, 52, 85],\n",
       "       [52, 63, 52, 85]])"
      ]
     },
     "execution_count": 35,
     "metadata": {},
     "output_type": "execute_result"
    }
   ],
   "source": [
    "arr2 "
   ]
  },
  {
   "cell_type": "code",
   "execution_count": 45,
   "id": "b1b745c8-3258-4d2e-8d45-0b85870a041b",
   "metadata": {},
   "outputs": [
    {
     "data": {
      "text/plain": [
       "85"
      ]
     },
     "execution_count": 45,
     "metadata": {},
     "output_type": "execute_result"
    }
   ],
   "source": [
    "# [row,column]  # starting_point:ending_point:step_point\n",
    "arr2[-1,-1]"
   ]
  },
  {
   "cell_type": "code",
   "execution_count": 49,
   "id": "870019fe-d786-4f97-aa7c-f6bed5179007",
   "metadata": {},
   "outputs": [
    {
     "data": {
      "text/plain": [
       "85"
      ]
     },
     "execution_count": 49,
     "metadata": {},
     "output_type": "execute_result"
    }
   ],
   "source": [
    "arr2[2][3]"
   ]
  },
  {
   "cell_type": "code",
   "execution_count": 51,
   "id": "9649d232-7ed0-4943-972c-40bea8da3dd6",
   "metadata": {},
   "outputs": [
    {
     "data": {
      "text/plain": [
       "array([[ 0,  1,  2,  3,  4],\n",
       "       [ 5,  6,  7,  8,  9],\n",
       "       [10, 11, 12, 13, 14],\n",
       "       [15, 16, 17, 18, 19],\n",
       "       [20, 21, 22, 23, 24],\n",
       "       [25, 26, 27, 28, 29],\n",
       "       [30, 31, 32, 33, 34],\n",
       "       [35, 36, 37, 38, 39],\n",
       "       [40, 41, 42, 43, 44],\n",
       "       [45, 46, 47, 48, 49],\n",
       "       [50, 51, 52, 53, 54],\n",
       "       [55, 56, 57, 58, 59]])"
      ]
     },
     "execution_count": 51,
     "metadata": {},
     "output_type": "execute_result"
    }
   ],
   "source": [
    "arr3 = np.arange(60).reshape(12,5)\n",
    "arr3 "
   ]
  },
  {
   "cell_type": "code",
   "execution_count": 53,
   "id": "ecbe12c0-145d-4ae9-ae91-a03fc04067f2",
   "metadata": {},
   "outputs": [
    {
     "data": {
      "text/plain": [
       "array([ 0,  1,  2,  3,  4,  5,  6,  7,  8,  9, 10, 11, 12, 13, 14, 15, 16,\n",
       "       17, 18, 19, 20, 21, 22, 23, 24, 25, 26, 27, 28, 29, 30, 31, 32, 33,\n",
       "       34, 35, 36, 37, 38, 39, 40, 41, 42, 43, 44, 45, 46, 47, 48, 49, 50,\n",
       "       51, 52, 53, 54, 55, 56, 57, 58, 59])"
      ]
     },
     "execution_count": 53,
     "metadata": {},
     "output_type": "execute_result"
    }
   ],
   "source": [
    "arr3.flatten()   # ravel()  #reshape"
   ]
  },
  {
   "cell_type": "code",
   "execution_count": 56,
   "id": "1a24869c-9e26-490b-ba25-752b65ab8540",
   "metadata": {},
   "outputs": [
    {
     "data": {
      "text/plain": [
       "array([[0.87972033, 0.37994306],\n",
       "       [0.38684842, 0.91465695],\n",
       "       [0.87503425, 0.85898824],\n",
       "       [0.0851158 , 0.63169581],\n",
       "       [0.24146611, 0.96578098],\n",
       "       [0.75941045, 0.11046146],\n",
       "       [0.31901023, 0.57329591],\n",
       "       [0.44175918, 0.74720382],\n",
       "       [0.91720289, 0.1567114 ],\n",
       "       [0.30399908, 0.98945587]])"
      ]
     },
     "execution_count": 56,
     "metadata": {},
     "output_type": "execute_result"
    }
   ],
   "source": [
    "np.random.random((10,2))"
   ]
  },
  {
   "cell_type": "code",
   "execution_count": 58,
   "id": "f6306155-846f-4a91-a462-1a23f36474cd",
   "metadata": {},
   "outputs": [],
   "source": [
    "arr = np.random.randint(1,5,10)"
   ]
  },
  {
   "cell_type": "code",
   "execution_count": 61,
   "id": "970fddaa-a27c-4243-919c-04ac2e4b689c",
   "metadata": {},
   "outputs": [],
   "source": [
    "arr[-1] = 100"
   ]
  },
  {
   "cell_type": "code",
   "execution_count": 63,
   "id": "f209c40f-83e6-4710-8fe2-fac3f71a37bd",
   "metadata": {},
   "outputs": [
    {
     "data": {
      "text/plain": [
       "array([137, 147,  71, 199, 100,  81, 129, 108,  38,  78,  79, 150,  38,\n",
       "       115,  74,  96, 197, 155,  80,  97, 108, 187, 178, 186, 183,   9,\n",
       "       116, 179, 196, 136,  23,  62, 126,  43,  28, 197,  12,  18,  95,\n",
       "       104,  61,   9, 125, 126, 117, 136,  83, 151,  47,  57, 189,  95,\n",
       "        64,  75, 187, 161, 151, 130,  54, 117,  17, 111,  22, 182, 113,\n",
       "       137,  36,  15,   8,  70, 125,  88, 157, 114,  76,  87, 145, 152,\n",
       "       143, 141,  30, 174,  43,  29, 121,  76,  31, 199,  54, 128,   3,\n",
       "        13,  23,  41, 160,  97, 150, 122, 108,   7,  28,  60,  80, 162,\n",
       "       118,  31,   5, 102,  31, 182, 137, 159,  99, 108, 120, 190, 148,\n",
       "        91, 180, 122,  66,  27,  52, 166, 120, 124,  89, 151,   5,  45,\n",
       "        71,   3, 146,  59, 113,  85, 141,  37, 110, 121, 180, 159, 179,\n",
       "         6, 103,  89,  45,  23, 162,  14, 171, 134,  55, 195, 142,   4,\n",
       "       117,   3, 108,  62,   5,  78, 144, 197,  85, 109, 133, 176, 146,\n",
       "        20, 151, 126, 114,  31, 162,  93,  42,  75,  33,   3, 155,  79,\n",
       "        40, 126,  45,  40, 190, 166, 124, 144,  23, 107,  70,  12,  37,\n",
       "        60, 162,  14,  11,  54])"
      ]
     },
     "execution_count": 63,
     "metadata": {},
     "output_type": "execute_result"
    }
   ],
   "source": [
    "arr = np.random.randint(1,200,200)\n",
    "arr "
   ]
  },
  {
   "cell_type": "code",
   "execution_count": 67,
   "id": "dffa6c70-f101-4825-ac25-054f124f402d",
   "metadata": {},
   "outputs": [
    {
     "data": {
      "text/plain": [
       "(98,)"
      ]
     },
     "execution_count": 67,
     "metadata": {},
     "output_type": "execute_result"
    }
   ],
   "source": [
    "arr[arr<100].shape"
   ]
  },
  {
   "cell_type": "code",
   "execution_count": null,
   "id": "a4d4b5da-03f7-411c-8975-ffcf94239b8f",
   "metadata": {},
   "outputs": [],
   "source": []
  }
 ],
 "metadata": {
  "kernelspec": {
   "display_name": "Python 3 (ipykernel)",
   "language": "python",
   "name": "python3"
  },
  "language_info": {
   "codemirror_mode": {
    "name": "ipython",
    "version": 3
   },
   "file_extension": ".py",
   "mimetype": "text/x-python",
   "name": "python",
   "nbconvert_exporter": "python",
   "pygments_lexer": "ipython3",
   "version": "3.11.5"
  }
 },
 "nbformat": 4,
 "nbformat_minor": 5
}
